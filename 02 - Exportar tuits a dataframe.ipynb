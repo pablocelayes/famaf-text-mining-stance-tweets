{
 "cells": [
  {
   "cell_type": "code",
   "execution_count": 217,
   "id": "472a85a0",
   "metadata": {
    "ExecuteTime": {
     "end_time": "2024-03-08T16:29:22.168759Z",
     "start_time": "2024-03-08T16:29:21.779243Z"
    }
   },
   "outputs": [
    {
     "data": {
      "text/html": [
       "<style>.container { width:100% !important; }</style>"
      ],
      "text/plain": [
       "<IPython.core.display.HTML object>"
      ]
     },
     "metadata": {},
     "output_type": "display_data"
    }
   ],
   "source": [
    "from IPython.display import display, HTML\n",
    "display(HTML(\"<style>.container { width:100% !important; }</style>\"))\n",
    "from pymongo import MongoClient\n",
    "from datetime import datetime\n",
    "import pandas as pd"
   ]
  },
  {
   "cell_type": "code",
   "execution_count": 218,
   "id": "6d5483e4",
   "metadata": {
    "ExecuteTime": {
     "end_time": "2024-03-08T16:29:22.214154Z",
     "start_time": "2024-03-08T16:29:22.171004Z"
    }
   },
   "outputs": [],
   "source": [
    "client = MongoClient()\n",
    "db = client[\"twits_db\"]\n",
    "db.list_collection_names()\n",
    "col = db[\"db.5e8fc63ddd8efca7e56c3215\"]"
   ]
  },
  {
   "cell_type": "markdown",
   "id": "5d80b8ee",
   "metadata": {},
   "source": [
    "- Filtrar por fechas\n",
    "- Extraer columnas de interés\n",
    "- RTs: extraer original si no fue procesado antes"
   ]
  },
  {
   "cell_type": "code",
   "execution_count": 219,
   "id": "bc5656bb",
   "metadata": {},
   "outputs": [],
   "source": [
    "start_ts = datetime.fromisoformat('2020-04-12T00:00:00+00:00')\n",
    "end_ts =  datetime.fromisoformat('2020-04-19T00:00:00+00:00')"
   ]
  },
  {
   "cell_type": "code",
   "execution_count": 241,
   "id": "f0d75cf4",
   "metadata": {},
   "outputs": [],
   "source": [
    "# Convert string to datetime in the aggregation pipeline and apply projection\n",
    "pipeline = [        \n",
    "    {\n",
    "        '$project': {\n",
    "            \"id\": 1,\n",
    "            \"user.id\": 1,\n",
    "            \"text\": 1,\n",
    "            \"truncated\": 1,\n",
    "            'extended_tweet.full_text': 1,\n",
    "            \"in_reply_to_status_id\": 1,\n",
    "            \"in_reply_to_user_id\": 1,\n",
    "            \"_id\": 0,\n",
    "            'created_at': {\n",
    "                '$dateFromString': {\n",
    "                    'dateString': '$created_at'\n",
    "                }\n",
    "            },\n",
    "            \"retweeted_status.id\": 1,\n",
    "            \"retweeted_status.user.id\": 1,\n",
    "            \"retweeted_status.text\": 1,\n",
    "            \"retweeted_status.extended_tweet.full_text\": 1,\n",
    "        }\n",
    "    },\n",
    "    {\n",
    "        \"$match\": {\n",
    "            'created_at': {\n",
    "                '$gte': start_ts,\n",
    "                '$lte': end_ts\n",
    "            },\n",
    "        }\n",
    "    }\n",
    "]"
   ]
  },
  {
   "cell_type": "code",
   "execution_count": 242,
   "id": "70af7833",
   "metadata": {},
   "outputs": [
    {
     "name": "stdout",
     "output_type": "stream",
     "text": [
      "Saved batch 001 batches.\n",
      "Saved batch 002 batches.\n",
      "Saved batch 003 batches.\n",
      "Saved batch 004 batches.\n",
      "Saved batch 005 batches.\n",
      "Saved batch 006 batches.\n",
      "Saved batch 007 batches.\n",
      "Processed 7 batches.\n"
     ]
    }
   ],
   "source": [
    "# Batch settings\n",
    "batch_size = 1000000  # Define the size of each batch\n",
    "batch_number = 1  # Counter for batch files\n",
    "\n",
    "# Batch processing\n",
    "batch = []\n",
    "\n",
    "def save_batch(batch, batch_number):\n",
    "    # Convert the batch to a DataFrame and save as CSV (or use csv.writer for raw CSV)\n",
    "    df = pd.DataFrame(batch)\n",
    "    for f in [\"reply_to_tweet_id\", \"reply_to_user_id\", \"retweet_tweet_id\", \"retweet_user_id\"]:\n",
    "        df[f] = df[f].astype(\"Int64\")        \n",
    "    df.to_csv(f'data/tweets_batch_{batch_number:03d}.tsv', index=False, sep='\\t')\n",
    "    print(f\"Saved batch {batch_number:03d}\")\n",
    "\n",
    "for d in col.aggregate(pipeline):\n",
    "    row = {\n",
    "        \"tweet_id\": d[\"id\"],\n",
    "        \"user_id\": d[\"user\"][\"id\"],        \n",
    "        \"created_at\": d[\"created_at\"],\n",
    "        \"full_text\": d[\"text\"],\n",
    "        \"reply_to_tweet_id\": d[\"in_reply_to_status_id\"],\n",
    "        \"reply_to_user_id\": d[\"in_reply_to_user_id\"],\n",
    "    }\n",
    "    if \"extended_tweet\" in d:\n",
    "        row[\"full_text\"] = d[\"extended_tweet\"][\"full_text\"]\n",
    "    if \"retweeted_status\" in d:\n",
    "        dr = d[\"retweeted_status\"]\n",
    "        row |= {\n",
    "            \"retweet_tweet_id\": dr[\"id\"],\n",
    "            \"retweet_user_id\": dr[\"user\"][\"id\"],            \n",
    "        }\n",
    "        if \"extended_tweet\" in dr:\n",
    "            row[\"full_text\"] = dr[\"extended_tweet\"][\"full_text\"]\n",
    "        else:\n",
    "            row[\"full_text\"] = dr[\"text\"]\n",
    "\n",
    "    batch.append(row)\n",
    "    # Save the batch to CSV when it reaches the batch_size\n",
    "    if len(batch) == batch_size:\n",
    "        save_batch(batch, batch_number)\n",
    "        \n",
    "        # Reset the batch and increment the batch number\n",
    "        batch = []\n",
    "        batch_number += 1\n",
    "\n",
    "# Save the final batch if it's not empty\n",
    "if batch:\n",
    "    save_batch(batch, batch_number)\n",
    "\n",
    "print(f\"Processed {batch_number} batches.\")\n",
    "    "
   ]
  },
  {
   "cell_type": "code",
   "execution_count": 249,
   "id": "e0d55390",
   "metadata": {},
   "outputs": [],
   "source": [
    "chunk_size = 10000  # Adjust the chunk size as needed\n",
    "all_chunks = []\n",
    "\n",
    "for i in range(1,8):\n",
    "    chunks = pd.read_csv(f'data/tweets_batch_00{i}.tsv', sep='\\t',\n",
    "                         engine='python',\n",
    "                         on_bad_lines='skip',\n",
    "                         chunksize=chunk_size)\n",
    "    all_chunks += chunks\n",
    "\n",
    "df = pd.concat(all_chunks, ignore_index=True)\n",
    "\n",
    "for f in [\"user_id\", \"reply_to_tweet_id\", \"reply_to_user_id\", \"retweet_tweet_id\", \"retweet_user_id\"]:\n",
    "    df[f] = df[f].astype(\"Int64\")"
   ]
  },
  {
   "cell_type": "code",
   "execution_count": 250,
   "id": "9c0ef17c",
   "metadata": {},
   "outputs": [
    {
     "data": {
      "text/html": [
       "<div>\n",
       "<style scoped>\n",
       "    .dataframe tbody tr th:only-of-type {\n",
       "        vertical-align: middle;\n",
       "    }\n",
       "\n",
       "    .dataframe tbody tr th {\n",
       "        vertical-align: top;\n",
       "    }\n",
       "\n",
       "    .dataframe thead th {\n",
       "        text-align: right;\n",
       "    }\n",
       "</style>\n",
       "<table border=\"1\" class=\"dataframe\">\n",
       "  <thead>\n",
       "    <tr style=\"text-align: right;\">\n",
       "      <th></th>\n",
       "      <th>tweet_id</th>\n",
       "      <th>user_id</th>\n",
       "      <th>created_at</th>\n",
       "      <th>full_text</th>\n",
       "      <th>reply_to_tweet_id</th>\n",
       "      <th>reply_to_user_id</th>\n",
       "      <th>retweet_tweet_id</th>\n",
       "      <th>retweet_user_id</th>\n",
       "    </tr>\n",
       "  </thead>\n",
       "  <tbody>\n",
       "    <tr>\n",
       "      <th>0</th>\n",
       "      <td>1249125074495512576</td>\n",
       "      <td>415914708</td>\n",
       "      <td>2020-04-12 00:00:00</td>\n",
       "      <td>Panorama en Quintana Roo \\n\\nHasta las 18 hora...</td>\n",
       "      <td>&lt;NA&gt;</td>\n",
       "      <td>&lt;NA&gt;</td>\n",
       "      <td>1249114191325257728</td>\n",
       "      <td>814504845935788032</td>\n",
       "    </tr>\n",
       "    <tr>\n",
       "      <th>1</th>\n",
       "      <td>1249125074541649920</td>\n",
       "      <td>825227495242862592</td>\n",
       "      <td>2020-04-12 00:00:00</td>\n",
       "      <td>@CamiFerrce @Pau_lin_a Prefiero el COVID 19-20...</td>\n",
       "      <td>1248608951341465600</td>\n",
       "      <td>1112168942</td>\n",
       "      <td>&lt;NA&gt;</td>\n",
       "      <td>&lt;NA&gt;</td>\n",
       "    </tr>\n",
       "    <tr>\n",
       "      <th>2</th>\n",
       "      <td>1249125075179016192</td>\n",
       "      <td>1047598652510937088</td>\n",
       "      <td>2020-04-12 00:00:00</td>\n",
       "      <td>App de COVID-19 pudo ser un mero sitio web inf...</td>\n",
       "      <td>&lt;NA&gt;</td>\n",
       "      <td>&lt;NA&gt;</td>\n",
       "      <td>&lt;NA&gt;</td>\n",
       "      <td>&lt;NA&gt;</td>\n",
       "    </tr>\n",
       "    <tr>\n",
       "      <th>3</th>\n",
       "      <td>1249125075195793408</td>\n",
       "      <td>210950346</td>\n",
       "      <td>2020-04-12 00:00:00</td>\n",
       "      <td>Las pruebas rápidas de #Covid19 podrían ayudar...</td>\n",
       "      <td>&lt;NA&gt;</td>\n",
       "      <td>&lt;NA&gt;</td>\n",
       "      <td>&lt;NA&gt;</td>\n",
       "      <td>&lt;NA&gt;</td>\n",
       "    </tr>\n",
       "    <tr>\n",
       "      <th>4</th>\n",
       "      <td>1249125075166662658</td>\n",
       "      <td>888404662038261760</td>\n",
       "      <td>2020-04-12 00:00:00</td>\n",
       "      <td>#QueNoSeTePase Médicos del IMSS de Villa Alta ...</td>\n",
       "      <td>&lt;NA&gt;</td>\n",
       "      <td>&lt;NA&gt;</td>\n",
       "      <td>&lt;NA&gt;</td>\n",
       "      <td>&lt;NA&gt;</td>\n",
       "    </tr>\n",
       "    <tr>\n",
       "      <th>...</th>\n",
       "      <td>...</td>\n",
       "      <td>...</td>\n",
       "      <td>...</td>\n",
       "      <td>...</td>\n",
       "      <td>...</td>\n",
       "      <td>...</td>\n",
       "      <td>...</td>\n",
       "      <td>...</td>\n",
       "    </tr>\n",
       "    <tr>\n",
       "      <th>6166213</th>\n",
       "      <td>1251661747859214337</td>\n",
       "      <td>772099708500185088</td>\n",
       "      <td>2020-04-18 23:59:50</td>\n",
       "      <td>Me sumo!</td>\n",
       "      <td>&lt;NA&gt;</td>\n",
       "      <td>&lt;NA&gt;</td>\n",
       "      <td>1251651117580201984</td>\n",
       "      <td>733971169729187840</td>\n",
       "    </tr>\n",
       "    <tr>\n",
       "      <th>6166214</th>\n",
       "      <td>1251661748173758465</td>\n",
       "      <td>1332565328</td>\n",
       "      <td>2020-04-18 23:59:50</td>\n",
       "      <td>🚨ÚLTIMA HORA: Washington Post confirma origen ...</td>\n",
       "      <td>&lt;NA&gt;</td>\n",
       "      <td>&lt;NA&gt;</td>\n",
       "      <td>1251241300512378880</td>\n",
       "      <td>1163463729226428416</td>\n",
       "    </tr>\n",
       "    <tr>\n",
       "      <th>6166215</th>\n",
       "      <td>1251661748219686913</td>\n",
       "      <td>782058499798818816</td>\n",
       "      <td>2020-04-18 23:59:50</td>\n",
       "      <td>En Monterrey han iniciado un ensayo clínico al...</td>\n",
       "      <td>&lt;NA&gt;</td>\n",
       "      <td>&lt;NA&gt;</td>\n",
       "      <td>1251657496105713664</td>\n",
       "      <td>316273207</td>\n",
       "    </tr>\n",
       "    <tr>\n",
       "      <th>6166216</th>\n",
       "      <td>1251661748370763777</td>\n",
       "      <td>191983088</td>\n",
       "      <td>2020-04-18 23:59:50</td>\n",
       "      <td>A nadie le importa que el covid les vaya a \"ar...</td>\n",
       "      <td>&lt;NA&gt;</td>\n",
       "      <td>&lt;NA&gt;</td>\n",
       "      <td>1251572197694550016</td>\n",
       "      <td>86802425</td>\n",
       "    </tr>\n",
       "    <tr>\n",
       "      <th>6166217</th>\n",
       "      <td>1251661748362412035</td>\n",
       "      <td>1231841233</td>\n",
       "      <td>2020-04-18 23:59:50</td>\n",
       "      <td>@BritosGuillermo Todavía hay gente que no enti...</td>\n",
       "      <td>&lt;NA&gt;</td>\n",
       "      <td>&lt;NA&gt;</td>\n",
       "      <td>1251647920937603072</td>\n",
       "      <td>1084949623624663040</td>\n",
       "    </tr>\n",
       "  </tbody>\n",
       "</table>\n",
       "<p>6166218 rows × 8 columns</p>\n",
       "</div>"
      ],
      "text/plain": [
       "                    tweet_id              user_id           created_at   \n",
       "0        1249125074495512576            415914708  2020-04-12 00:00:00  \\\n",
       "1        1249125074541649920   825227495242862592  2020-04-12 00:00:00   \n",
       "2        1249125075179016192  1047598652510937088  2020-04-12 00:00:00   \n",
       "3        1249125075195793408            210950346  2020-04-12 00:00:00   \n",
       "4        1249125075166662658   888404662038261760  2020-04-12 00:00:00   \n",
       "...                      ...                  ...                  ...   \n",
       "6166213  1251661747859214337   772099708500185088  2020-04-18 23:59:50   \n",
       "6166214  1251661748173758465           1332565328  2020-04-18 23:59:50   \n",
       "6166215  1251661748219686913   782058499798818816  2020-04-18 23:59:50   \n",
       "6166216  1251661748370763777            191983088  2020-04-18 23:59:50   \n",
       "6166217  1251661748362412035           1231841233  2020-04-18 23:59:50   \n",
       "\n",
       "                                                 full_text   \n",
       "0        Panorama en Quintana Roo \\n\\nHasta las 18 hora...  \\\n",
       "1        @CamiFerrce @Pau_lin_a Prefiero el COVID 19-20...   \n",
       "2        App de COVID-19 pudo ser un mero sitio web inf...   \n",
       "3        Las pruebas rápidas de #Covid19 podrían ayudar...   \n",
       "4        #QueNoSeTePase Médicos del IMSS de Villa Alta ...   \n",
       "...                                                    ...   \n",
       "6166213                                           Me sumo!   \n",
       "6166214  🚨ÚLTIMA HORA: Washington Post confirma origen ...   \n",
       "6166215  En Monterrey han iniciado un ensayo clínico al...   \n",
       "6166216  A nadie le importa que el covid les vaya a \"ar...   \n",
       "6166217  @BritosGuillermo Todavía hay gente que no enti...   \n",
       "\n",
       "           reply_to_tweet_id  reply_to_user_id     retweet_tweet_id   \n",
       "0                       <NA>              <NA>  1249114191325257728  \\\n",
       "1        1248608951341465600        1112168942                 <NA>   \n",
       "2                       <NA>              <NA>                 <NA>   \n",
       "3                       <NA>              <NA>                 <NA>   \n",
       "4                       <NA>              <NA>                 <NA>   \n",
       "...                      ...               ...                  ...   \n",
       "6166213                 <NA>              <NA>  1251651117580201984   \n",
       "6166214                 <NA>              <NA>  1251241300512378880   \n",
       "6166215                 <NA>              <NA>  1251657496105713664   \n",
       "6166216                 <NA>              <NA>  1251572197694550016   \n",
       "6166217                 <NA>              <NA>  1251647920937603072   \n",
       "\n",
       "             retweet_user_id  \n",
       "0         814504845935788032  \n",
       "1                       <NA>  \n",
       "2                       <NA>  \n",
       "3                       <NA>  \n",
       "4                       <NA>  \n",
       "...                      ...  \n",
       "6166213   733971169729187840  \n",
       "6166214  1163463729226428416  \n",
       "6166215            316273207  \n",
       "6166216             86802425  \n",
       "6166217  1084949623624663040  \n",
       "\n",
       "[6166218 rows x 8 columns]"
      ]
     },
     "execution_count": 250,
     "metadata": {},
     "output_type": "execute_result"
    }
   ],
   "source": [
    "df"
   ]
  },
  {
   "cell_type": "markdown",
   "id": "038c9666",
   "metadata": {},
   "source": [
    "### How many replies?"
   ]
  },
  {
   "cell_type": "code",
   "execution_count": 255,
   "id": "4000920f",
   "metadata": {},
   "outputs": [
    {
     "data": {
      "text/plain": [
       "0.034609058583397474"
      ]
     },
     "execution_count": 255,
     "metadata": {},
     "output_type": "execute_result"
    }
   ],
   "source": [
    "(~df.reply_to_tweet_id.isna()).mean()"
   ]
  },
  {
   "cell_type": "code",
   "execution_count": 254,
   "id": "62bf4359",
   "metadata": {},
   "outputs": [
    {
     "data": {
      "text/plain": [
       "213407"
      ]
     },
     "execution_count": 254,
     "metadata": {},
     "output_type": "execute_result"
    }
   ],
   "source": [
    "(~df.reply_to_tweet_id.isna()).sum()"
   ]
  },
  {
   "cell_type": "code",
   "execution_count": 256,
   "id": "df38626c",
   "metadata": {},
   "outputs": [],
   "source": [
    "replied_in_df = df.reply_to_tweet_id.isin(df.tweet_id)"
   ]
  },
  {
   "cell_type": "code",
   "execution_count": 257,
   "id": "eeea25eb",
   "metadata": {},
   "outputs": [
    {
     "data": {
      "text/plain": [
       "0.0012002494884222387"
      ]
     },
     "execution_count": 257,
     "metadata": {},
     "output_type": "execute_result"
    }
   ],
   "source": [
    "replied_in_df.mean()"
   ]
  },
  {
   "cell_type": "code",
   "execution_count": 258,
   "id": "f7159f59",
   "metadata": {},
   "outputs": [
    {
     "data": {
      "text/plain": [
       "7401"
      ]
     },
     "execution_count": 258,
     "metadata": {},
     "output_type": "execute_result"
    }
   ],
   "source": [
    "replied_in_df.sum()"
   ]
  },
  {
   "cell_type": "code",
   "execution_count": 274,
   "id": "7cd06672",
   "metadata": {},
   "outputs": [],
   "source": [
    "dfr = df[df.tweet_id.isin(df[replied_in_df].tweet_id)]\n",
    "# Exclude self-replies (threads)\n",
    "dfr = dfr[dfr.user_id != dfr.reply_to_user_id]"
   ]
  },
  {
   "cell_type": "code",
   "execution_count": 275,
   "id": "d15bff9f",
   "metadata": {},
   "outputs": [],
   "source": [
    "dfr = pd.merge(left=dfr.sample(10),\n",
    "               right=df,\n",
    "               left_on=\"reply_to_tweet_id\", right_on=\"tweet_id\",\n",
    "               how='left')"
   ]
  },
  {
   "cell_type": "code",
   "execution_count": 276,
   "id": "7c3f159e",
   "metadata": {},
   "outputs": [
    {
     "data": {
      "text/html": [
       "<div>\n",
       "<style scoped>\n",
       "    .dataframe tbody tr th:only-of-type {\n",
       "        vertical-align: middle;\n",
       "    }\n",
       "\n",
       "    .dataframe tbody tr th {\n",
       "        vertical-align: top;\n",
       "    }\n",
       "\n",
       "    .dataframe thead th {\n",
       "        text-align: right;\n",
       "    }\n",
       "</style>\n",
       "<table border=\"1\" class=\"dataframe\">\n",
       "  <thead>\n",
       "    <tr style=\"text-align: right;\">\n",
       "      <th></th>\n",
       "      <th>tweet_id_x</th>\n",
       "      <th>user_id_x</th>\n",
       "      <th>created_at_x</th>\n",
       "      <th>full_text_x</th>\n",
       "      <th>reply_to_tweet_id_x</th>\n",
       "      <th>reply_to_user_id_x</th>\n",
       "      <th>retweet_tweet_id_x</th>\n",
       "      <th>retweet_user_id_x</th>\n",
       "      <th>tweet_id_y</th>\n",
       "      <th>user_id_y</th>\n",
       "      <th>created_at_y</th>\n",
       "      <th>full_text_y</th>\n",
       "      <th>reply_to_tweet_id_y</th>\n",
       "      <th>reply_to_user_id_y</th>\n",
       "      <th>retweet_tweet_id_y</th>\n",
       "      <th>retweet_user_id_y</th>\n",
       "    </tr>\n",
       "  </thead>\n",
       "  <tbody>\n",
       "    <tr>\n",
       "      <th>0</th>\n",
       "      <td>1249941878499414016</td>\n",
       "      <td>321385131</td>\n",
       "      <td>2020-04-14 06:05:41</td>\n",
       "      <td>@greciagirlany Maldito covid opino lo mismo qu...</td>\n",
       "      <td>1249892652096487424</td>\n",
       "      <td>1185577762704117504</td>\n",
       "      <td>&lt;NA&gt;</td>\n",
       "      <td>&lt;NA&gt;</td>\n",
       "      <td>1249892652096487424</td>\n",
       "      <td>1185577762704117760</td>\n",
       "      <td>2020-04-14 02:50:04</td>\n",
       "      <td>Con dedicatoria al covid https://t.co/lsNNNZaWVd</td>\n",
       "      <td>&lt;NA&gt;</td>\n",
       "      <td>&lt;NA&gt;</td>\n",
       "      <td>&lt;NA&gt;</td>\n",
       "      <td>&lt;NA&gt;</td>\n",
       "    </tr>\n",
       "    <tr>\n",
       "      <th>1</th>\n",
       "      <td>1249468821397737472</td>\n",
       "      <td>142093052</td>\n",
       "      <td>2020-04-12 22:45:55</td>\n",
       "      <td>@atilioboron @AliciaCastroAR @alferdez @alferd...</td>\n",
       "      <td>1249441130418180096</td>\n",
       "      <td>203555695</td>\n",
       "      <td>&lt;NA&gt;</td>\n",
       "      <td>&lt;NA&gt;</td>\n",
       "      <td>1249441130418180096</td>\n",
       "      <td>203555695</td>\n",
       "      <td>2020-04-12 20:55:53</td>\n",
       "      <td>Se entiende ahora por qué la restricción a la ...</td>\n",
       "      <td>&lt;NA&gt;</td>\n",
       "      <td>&lt;NA&gt;</td>\n",
       "      <td>&lt;NA&gt;</td>\n",
       "      <td>&lt;NA&gt;</td>\n",
       "    </tr>\n",
       "    <tr>\n",
       "      <th>2</th>\n",
       "      <td>1251661321973764098</td>\n",
       "      <td>1221567289302142976</td>\n",
       "      <td>2020-04-18 23:58:08</td>\n",
       "      <td>@JuanOrlandoH Nos unimos en agradecimiento Pre...</td>\n",
       "      <td>1251659347236659200</td>\n",
       "      <td>58244743</td>\n",
       "      <td>&lt;NA&gt;</td>\n",
       "      <td>&lt;NA&gt;</td>\n",
       "      <td>1251659347236659200</td>\n",
       "      <td>58244743</td>\n",
       "      <td>2020-04-18 23:50:17</td>\n",
       "      <td>Agradezco las muestras de amistad entre🇭🇳🇺🇸 a ...</td>\n",
       "      <td>&lt;NA&gt;</td>\n",
       "      <td>&lt;NA&gt;</td>\n",
       "      <td>&lt;NA&gt;</td>\n",
       "      <td>&lt;NA&gt;</td>\n",
       "    </tr>\n",
       "    <tr>\n",
       "      <th>3</th>\n",
       "      <td>1250868574551445504</td>\n",
       "      <td>68576031</td>\n",
       "      <td>2020-04-16 19:28:02</td>\n",
       "      <td>@AdrianVL1982 @CiudadanosCs Ya nos dejaron atr...</td>\n",
       "      <td>1250855626923786240</td>\n",
       "      <td>763382833</td>\n",
       "      <td>&lt;NA&gt;</td>\n",
       "      <td>&lt;NA&gt;</td>\n",
       "      <td>1250855626923786240</td>\n",
       "      <td>763382833</td>\n",
       "      <td>2020-04-16 18:36:35</td>\n",
       "      <td>Cs insta a Planas a ejecutar \"urgentemente\" la...</td>\n",
       "      <td>&lt;NA&gt;</td>\n",
       "      <td>&lt;NA&gt;</td>\n",
       "      <td>&lt;NA&gt;</td>\n",
       "      <td>&lt;NA&gt;</td>\n",
       "    </tr>\n",
       "    <tr>\n",
       "      <th>4</th>\n",
       "      <td>1251125089053048834</td>\n",
       "      <td>2233387179</td>\n",
       "      <td>2020-04-17 12:27:20</td>\n",
       "      <td>@lacuarta Me paso x la Raja ese Bono covid19.....</td>\n",
       "      <td>1250947066613956608</td>\n",
       "      <td>3223771</td>\n",
       "      <td>&lt;NA&gt;</td>\n",
       "      <td>&lt;NA&gt;</td>\n",
       "      <td>1250947066613956608</td>\n",
       "      <td>3223771</td>\n",
       "      <td>2020-04-17 00:39:56</td>\n",
       "      <td>Dinero comenzará a ser entregado esta semana.\\...</td>\n",
       "      <td>&lt;NA&gt;</td>\n",
       "      <td>&lt;NA&gt;</td>\n",
       "      <td>&lt;NA&gt;</td>\n",
       "      <td>&lt;NA&gt;</td>\n",
       "    </tr>\n",
       "    <tr>\n",
       "      <th>5</th>\n",
       "      <td>1251661452244443137</td>\n",
       "      <td>265758740</td>\n",
       "      <td>2020-04-18 23:58:39</td>\n",
       "      <td>@lasillarota POR SI FUERA POCO LOS PANISTAS TR...</td>\n",
       "      <td>1251657260477997056</td>\n",
       "      <td>152358615</td>\n",
       "      <td>&lt;NA&gt;</td>\n",
       "      <td>&lt;NA&gt;</td>\n",
       "      <td>1251657260477997056</td>\n",
       "      <td>152358615</td>\n",
       "      <td>2020-04-18 23:42:00</td>\n",
       "      <td>Los extraños números de Hugo López-Gatell sobr...</td>\n",
       "      <td>&lt;NA&gt;</td>\n",
       "      <td>&lt;NA&gt;</td>\n",
       "      <td>&lt;NA&gt;</td>\n",
       "      <td>&lt;NA&gt;</td>\n",
       "    </tr>\n",
       "    <tr>\n",
       "      <th>6</th>\n",
       "      <td>1251659175463133186</td>\n",
       "      <td>1244749454865031168</td>\n",
       "      <td>2020-04-18 23:49:36</td>\n",
       "      <td>@PLDenlinea @JCesarValentin Gracias por seguir...</td>\n",
       "      <td>1251513318042451968</td>\n",
       "      <td>176455570</td>\n",
       "      <td>&lt;NA&gt;</td>\n",
       "      <td>&lt;NA&gt;</td>\n",
       "      <td>1251513318042451968</td>\n",
       "      <td>176455570</td>\n",
       "      <td>2020-04-18 14:10:01</td>\n",
       "      <td>El Ministro de Salud Pública, Rafael Sánchez C...</td>\n",
       "      <td>&lt;NA&gt;</td>\n",
       "      <td>&lt;NA&gt;</td>\n",
       "      <td>&lt;NA&gt;</td>\n",
       "      <td>&lt;NA&gt;</td>\n",
       "    </tr>\n",
       "    <tr>\n",
       "      <th>7</th>\n",
       "      <td>1250456285063061504</td>\n",
       "      <td>584323617</td>\n",
       "      <td>2020-04-15 16:09:45</td>\n",
       "      <td>@ciper El Covid19 es Ateo.\\n\\nExplicación evan...</td>\n",
       "      <td>1250412296565862400</td>\n",
       "      <td>33790745</td>\n",
       "      <td>&lt;NA&gt;</td>\n",
       "      <td>&lt;NA&gt;</td>\n",
       "      <td>1250412296565862400</td>\n",
       "      <td>33790745</td>\n",
       "      <td>2020-04-15 13:14:57</td>\n",
       "      <td>Fallece obispo evangélico Mario Salfate, quien...</td>\n",
       "      <td>&lt;NA&gt;</td>\n",
       "      <td>&lt;NA&gt;</td>\n",
       "      <td>&lt;NA&gt;</td>\n",
       "      <td>&lt;NA&gt;</td>\n",
       "    </tr>\n",
       "    <tr>\n",
       "      <th>8</th>\n",
       "      <td>1249413994571599872</td>\n",
       "      <td>4418245397</td>\n",
       "      <td>2020-04-12 19:08:03</td>\n",
       "      <td>@Konspyrenayko Prefiero, como solución, ofrece...</td>\n",
       "      <td>1249385551813320704</td>\n",
       "      <td>2956704706</td>\n",
       "      <td>&lt;NA&gt;</td>\n",
       "      <td>&lt;NA&gt;</td>\n",
       "      <td>1249385551813320704</td>\n",
       "      <td>2956704706</td>\n",
       "      <td>2020-04-12 17:15:02</td>\n",
       "      <td>En España 750.000 personas ganan 60.000€ según...</td>\n",
       "      <td>&lt;NA&gt;</td>\n",
       "      <td>&lt;NA&gt;</td>\n",
       "      <td>&lt;NA&gt;</td>\n",
       "      <td>&lt;NA&gt;</td>\n",
       "    </tr>\n",
       "    <tr>\n",
       "      <th>9</th>\n",
       "      <td>1250547011763539971</td>\n",
       "      <td>82434462</td>\n",
       "      <td>2020-04-15 22:10:16</td>\n",
       "      <td>@latercera Seguramente se llamará ..Covid ...🤣😂</td>\n",
       "      <td>1250543919290626048</td>\n",
       "      <td>3222731</td>\n",
       "      <td>&lt;NA&gt;</td>\n",
       "      <td>&lt;NA&gt;</td>\n",
       "      <td>1250543919290626048</td>\n",
       "      <td>3222731</td>\n",
       "      <td>2020-04-15 21:57:58</td>\n",
       "      <td>🇵🇪 Nace el primer bebé con coronavirus en Perú...</td>\n",
       "      <td>&lt;NA&gt;</td>\n",
       "      <td>&lt;NA&gt;</td>\n",
       "      <td>&lt;NA&gt;</td>\n",
       "      <td>&lt;NA&gt;</td>\n",
       "    </tr>\n",
       "  </tbody>\n",
       "</table>\n",
       "</div>"
      ],
      "text/plain": [
       "            tweet_id_x            user_id_x         created_at_x   \n",
       "0  1249941878499414016            321385131  2020-04-14 06:05:41  \\\n",
       "1  1249468821397737472            142093052  2020-04-12 22:45:55   \n",
       "2  1251661321973764098  1221567289302142976  2020-04-18 23:58:08   \n",
       "3  1250868574551445504             68576031  2020-04-16 19:28:02   \n",
       "4  1251125089053048834           2233387179  2020-04-17 12:27:20   \n",
       "5  1251661452244443137            265758740  2020-04-18 23:58:39   \n",
       "6  1251659175463133186  1244749454865031168  2020-04-18 23:49:36   \n",
       "7  1250456285063061504            584323617  2020-04-15 16:09:45   \n",
       "8  1249413994571599872           4418245397  2020-04-12 19:08:03   \n",
       "9  1250547011763539971             82434462  2020-04-15 22:10:16   \n",
       "\n",
       "                                         full_text_x  reply_to_tweet_id_x   \n",
       "0  @greciagirlany Maldito covid opino lo mismo qu...  1249892652096487424  \\\n",
       "1  @atilioboron @AliciaCastroAR @alferdez @alferd...  1249441130418180096   \n",
       "2  @JuanOrlandoH Nos unimos en agradecimiento Pre...  1251659347236659200   \n",
       "3  @AdrianVL1982 @CiudadanosCs Ya nos dejaron atr...  1250855626923786240   \n",
       "4  @lacuarta Me paso x la Raja ese Bono covid19.....  1250947066613956608   \n",
       "5  @lasillarota POR SI FUERA POCO LOS PANISTAS TR...  1251657260477997056   \n",
       "6  @PLDenlinea @JCesarValentin Gracias por seguir...  1251513318042451968   \n",
       "7  @ciper El Covid19 es Ateo.\\n\\nExplicación evan...  1250412296565862400   \n",
       "8  @Konspyrenayko Prefiero, como solución, ofrece...  1249385551813320704   \n",
       "9    @latercera Seguramente se llamará ..Covid ...🤣😂  1250543919290626048   \n",
       "\n",
       "    reply_to_user_id_x  retweet_tweet_id_x  retweet_user_id_x   \n",
       "0  1185577762704117504                <NA>               <NA>  \\\n",
       "1            203555695                <NA>               <NA>   \n",
       "2             58244743                <NA>               <NA>   \n",
       "3            763382833                <NA>               <NA>   \n",
       "4              3223771                <NA>               <NA>   \n",
       "5            152358615                <NA>               <NA>   \n",
       "6            176455570                <NA>               <NA>   \n",
       "7             33790745                <NA>               <NA>   \n",
       "8           2956704706                <NA>               <NA>   \n",
       "9              3222731                <NA>               <NA>   \n",
       "\n",
       "            tweet_id_y            user_id_y         created_at_y   \n",
       "0  1249892652096487424  1185577762704117760  2020-04-14 02:50:04  \\\n",
       "1  1249441130418180096            203555695  2020-04-12 20:55:53   \n",
       "2  1251659347236659200             58244743  2020-04-18 23:50:17   \n",
       "3  1250855626923786240            763382833  2020-04-16 18:36:35   \n",
       "4  1250947066613956608              3223771  2020-04-17 00:39:56   \n",
       "5  1251657260477997056            152358615  2020-04-18 23:42:00   \n",
       "6  1251513318042451968            176455570  2020-04-18 14:10:01   \n",
       "7  1250412296565862400             33790745  2020-04-15 13:14:57   \n",
       "8  1249385551813320704           2956704706  2020-04-12 17:15:02   \n",
       "9  1250543919290626048              3222731  2020-04-15 21:57:58   \n",
       "\n",
       "                                         full_text_y reply_to_tweet_id_y   \n",
       "0   Con dedicatoria al covid https://t.co/lsNNNZaWVd                <NA>  \\\n",
       "1  Se entiende ahora por qué la restricción a la ...                <NA>   \n",
       "2  Agradezco las muestras de amistad entre🇭🇳🇺🇸 a ...                <NA>   \n",
       "3  Cs insta a Planas a ejecutar \"urgentemente\" la...                <NA>   \n",
       "4  Dinero comenzará a ser entregado esta semana.\\...                <NA>   \n",
       "5  Los extraños números de Hugo López-Gatell sobr...                <NA>   \n",
       "6  El Ministro de Salud Pública, Rafael Sánchez C...                <NA>   \n",
       "7  Fallece obispo evangélico Mario Salfate, quien...                <NA>   \n",
       "8  En España 750.000 personas ganan 60.000€ según...                <NA>   \n",
       "9  🇵🇪 Nace el primer bebé con coronavirus en Perú...                <NA>   \n",
       "\n",
       "   reply_to_user_id_y  retweet_tweet_id_y  retweet_user_id_y  \n",
       "0                <NA>                <NA>               <NA>  \n",
       "1                <NA>                <NA>               <NA>  \n",
       "2                <NA>                <NA>               <NA>  \n",
       "3                <NA>                <NA>               <NA>  \n",
       "4                <NA>                <NA>               <NA>  \n",
       "5                <NA>                <NA>               <NA>  \n",
       "6                <NA>                <NA>               <NA>  \n",
       "7                <NA>                <NA>               <NA>  \n",
       "8                <NA>                <NA>               <NA>  \n",
       "9                <NA>                <NA>               <NA>  "
      ]
     },
     "execution_count": 276,
     "metadata": {},
     "output_type": "execute_result"
    }
   ],
   "source": [
    "dfr"
   ]
  },
  {
   "cell_type": "code",
   "execution_count": 277,
   "id": "9d78d476",
   "metadata": {},
   "outputs": [
    {
     "name": "stdout",
     "output_type": "stream",
     "text": [
      "=================\n",
      "Con dedicatoria al covid https://t.co/lsNNNZaWVd\n",
      "-----------------\n",
      "@greciagirlany Maldito covid opino lo mismo que tu!\n",
      "=================\n",
      "Se entiende ahora por qué la restricción a la movilidad disminuye la tasa de propagación del COVID-19. Miren estos mapas aéreos de hoy a las 17.30 hs de Argentina y saquen sus conclusiones. En EEUU lo peor aún no ha llegado y en Brasil el peligro es enorme. Argentina sin vuelos https://t.co/1rVnoOWRjs\n",
      "-----------------\n",
      "@atilioboron @AliciaCastroAR @alferdez @alferdezprensa @AmadoBoudouArg @chino_navarrook @gustavoflopez @CFKArgentina @PrensaTaiana @GraRCruz @pvillegas_tlSUR EL COVID-19 VIAJA EN AVIONES. FUERON LOS QUE PROPAGARON Y SIGUEN PROPAGANDO EL VIRUS. MAS LOS CRUCEROS.\n",
      "=================\n",
      "Agradezco las muestras de amistad entre🇭🇳🇺🇸 a través de su buena disposición de apoyarnos en la lucha contra el COVID-19 y la reactivación de la cooperación para apoyar nuestra economía y el desarrollo de Honduras en estos momentos de incertidumbre.\n",
      "-----------------\n",
      "@JuanOrlandoH Nos unimos en agradecimiento Presidente Hernández de la disposición del gobierno de Estados Unidos en apoyarnos en esta lucha contra el Covid19\n",
      "=================\n",
      "Cs insta a Planas a ejecutar \"urgentemente\" las ayudas prometidas al sector agrario por Covid-19\n",
      "\n",
      "https://t.co/Gy7zGbW4TT\n",
      "-----------------\n",
      "@AdrianVL1982 @CiudadanosCs Ya nos dejaron atrás⚠️\n",
      "Somos miles los despedidos en el periodo de prueba a causa del COVID19 y no tenemos paro ni ayuda. \n",
      "Nadie nos da respuesta\n",
      "Haz RT🔁para ayudarnos!\n",
      "✋Medidas YA!\n",
      "#sinerteniparo #aprobadogeneral #sepe\n",
      "\n",
      "https://t.co/MZV5ohNZSk\n",
      "=================\n",
      "Dinero comenzará a ser entregado esta semana.\n",
      "\n",
      "https://t.co/b2qpIgJyFw\n",
      "-----------------\n",
      "@lacuarta Me paso x la Raja ese Bono covid19.... Yo nunca lo recibiré..... Y la clase media cuándo?\n",
      "=================\n",
      "Los extraños números de Hugo López-Gatell sobre decesos por covid-19 https://t.co/X6fqJO6Mx8\n",
      "-----------------\n",
      "@lasillarota POR SI FUERA POCO LOS PANISTAS TRTAN DE QUE LOS CASOS SOSPECHOSO SEAN TRATADOS COMO COVID-19 Y ASI POS NO MMN ESTA LA INFLUENZA EN CHINGA EL DENGUE Y CHINGO DE ENDFERMEDADES RESPIRATORIAS QUE QUIEREN PASAR POR COVID-19 LOS PANISTAS\n",
      "=================\n",
      "El Ministro de Salud Pública, Rafael Sánchez Cárdenas, y el senador @JCesarValentin encabezarán este sábado un recorrido por varios sectores y municipios de Santiago para verificar la necesidad de más medidas contra el #COVID19 en cada zona y realizar muestras rápidas. https://t.co/HaPhl5g26R\n",
      "-----------------\n",
      "@PLDenlinea @JCesarValentin Gracias por seguir tiraos en la calle atendiendo las necesidades del pueblo, sabemos que esta acción surtirá un efecto positivo en la lucha contra el covid\n",
      "=================\n",
      "Fallece obispo evangélico Mario Salfate, quien se contagió de #Covid_19 en masivo encuentro de pastores. Vea acá el reportaje de CIPER que reveló lo ocurrido en ese evento 👉 https://t.co/4pmdtH0sME https://t.co/PWvoDDJWSD\n",
      "-----------------\n",
      "@ciper El Covid19 es Ateo.\n",
      "\n",
      "Explicación evangélica: El obispo fue llamado a luchar contra Covid-Satán al lado del señor\n",
      "=================\n",
      "En España 750.000 personas ganan 60.000€ según la Agencia Tributaria. Imaginad aplicar una tasa Covid del 10% para ellos. Salen 4.500 millones de €, más de la mitad de lo que la UE nos prestará con condiciones. Y eso solo con los de 60.000. Pero NO SE ATREVEN.\n",
      "-----------------\n",
      "@Konspyrenayko Prefiero, como solución, ofrecerle a todo el mundo los recursos para acceder a buenos puestos de trabajo. Para eso estan o deberian estar los sistemas tributarios. Lo de la tasa COVID suena fatal, injusto y poco serio.\n",
      "=================\n",
      "🇵🇪 Nace el primer bebé con coronavirus en Perú: La madre tenía Covid-19 de manera asintomática y el niño lo contrajo a través de la plancenta https://t.co/YB27XhfkB3 https://t.co/3gDpCVAdQ9\n",
      "-----------------\n",
      "@latercera Seguramente se llamará ..Covid ...🤣😂\n"
     ]
    }
   ],
   "source": [
    "for _, r in dfr.iterrows():\n",
    "    print(\"=================\")\n",
    "    print(r.full_text_y)\n",
    "    print(\"-----------------\")\n",
    "    print(r.full_text_x)"
   ]
  },
  {
   "cell_type": "code",
   "execution_count": 260,
   "id": "f7656a4e",
   "metadata": {},
   "outputs": [],
   "source": [
    "pd.merge?"
   ]
  },
  {
   "cell_type": "markdown",
   "id": "6461b520",
   "metadata": {},
   "source": [
    "### retweets"
   ]
  },
  {
   "cell_type": "code",
   "execution_count": 246,
   "id": "0f83bdca",
   "metadata": {},
   "outputs": [
    {
     "data": {
      "text/plain": [
       "0.20257327911533454"
      ]
     },
     "execution_count": 246,
     "metadata": {},
     "output_type": "execute_result"
    }
   ],
   "source": [
    "df.retweet_tweet_id.isna().mean()"
   ]
  },
  {
   "cell_type": "code",
   "execution_count": 247,
   "id": "0c996697",
   "metadata": {},
   "outputs": [],
   "source": [
    "rt_counts = df.reply_to_tweet_id.value_counts()"
   ]
  },
  {
   "cell_type": "code",
   "execution_count": 248,
   "id": "5ac42889",
   "metadata": {},
   "outputs": [
    {
     "data": {
      "application/vnd.plotly.v1+json": {
       "config": {
        "plotlyServerURL": "https://plot.ly"
       },
       "data": [
        {
         "alignmentgroup": "True",
         "hovertemplate": "variable=count<br>index=%{x}<br>value=%{y}<extra></extra>",
         "legendgroup": "count",
         "marker": {
          "color": "#636efa",
          "pattern": {
           "shape": ""
          }
         },
         "name": "count",
         "offsetgroup": "count",
         "orientation": "v",
         "showlegend": true,
         "textposition": "auto",
         "type": "bar",
         "x": [
          1,
          2,
          3,
          4,
          5,
          6,
          7,
          8,
          9,
          10,
          11,
          13,
          12,
          14,
          15,
          16,
          17,
          18,
          19,
          20,
          24,
          21,
          26,
          30,
          29,
          22,
          31,
          27,
          25,
          35,
          28,
          23,
          32,
          37,
          42,
          40,
          38,
          52,
          33,
          34,
          44,
          43,
          36,
          41,
          47,
          48,
          49,
          50,
          51,
          115,
          66,
          69,
          59,
          61,
          174,
          89,
          76,
          77,
          79,
          96,
          93,
          94,
          99,
          102,
          125,
          70,
          65,
          68,
          67,
          45,
          64,
          63,
          62,
          60,
          58,
          57,
          56,
          54,
          46,
          179
         ],
         "xaxis": "x",
         "y": [
          149214,
          10866,
          3037,
          1390,
          725,
          446,
          328,
          223,
          152,
          125,
          86,
          69,
          68,
          51,
          46,
          35,
          32,
          27,
          20,
          20,
          18,
          16,
          12,
          11,
          11,
          10,
          10,
          8,
          8,
          8,
          6,
          6,
          6,
          5,
          5,
          5,
          5,
          3,
          3,
          3,
          3,
          3,
          2,
          2,
          2,
          2,
          2,
          2,
          2,
          2,
          2,
          2,
          2,
          2,
          1,
          1,
          1,
          1,
          1,
          1,
          1,
          1,
          1,
          1,
          1,
          1,
          1,
          1,
          1,
          1,
          1,
          1,
          1,
          1,
          1,
          1,
          1,
          1,
          1,
          1
         ],
         "yaxis": "y"
        }
       ],
       "layout": {
        "barmode": "relative",
        "legend": {
         "title": {
          "text": "variable"
         },
         "tracegroupgap": 0
        },
        "margin": {
         "t": 60
        },
        "template": {
         "data": {
          "bar": [
           {
            "error_x": {
             "color": "#2a3f5f"
            },
            "error_y": {
             "color": "#2a3f5f"
            },
            "marker": {
             "line": {
              "color": "#E5ECF6",
              "width": 0.5
             },
             "pattern": {
              "fillmode": "overlay",
              "size": 10,
              "solidity": 0.2
             }
            },
            "type": "bar"
           }
          ],
          "barpolar": [
           {
            "marker": {
             "line": {
              "color": "#E5ECF6",
              "width": 0.5
             },
             "pattern": {
              "fillmode": "overlay",
              "size": 10,
              "solidity": 0.2
             }
            },
            "type": "barpolar"
           }
          ],
          "carpet": [
           {
            "aaxis": {
             "endlinecolor": "#2a3f5f",
             "gridcolor": "white",
             "linecolor": "white",
             "minorgridcolor": "white",
             "startlinecolor": "#2a3f5f"
            },
            "baxis": {
             "endlinecolor": "#2a3f5f",
             "gridcolor": "white",
             "linecolor": "white",
             "minorgridcolor": "white",
             "startlinecolor": "#2a3f5f"
            },
            "type": "carpet"
           }
          ],
          "choropleth": [
           {
            "colorbar": {
             "outlinewidth": 0,
             "ticks": ""
            },
            "type": "choropleth"
           }
          ],
          "contour": [
           {
            "colorbar": {
             "outlinewidth": 0,
             "ticks": ""
            },
            "colorscale": [
             [
              0,
              "#0d0887"
             ],
             [
              0.1111111111111111,
              "#46039f"
             ],
             [
              0.2222222222222222,
              "#7201a8"
             ],
             [
              0.3333333333333333,
              "#9c179e"
             ],
             [
              0.4444444444444444,
              "#bd3786"
             ],
             [
              0.5555555555555556,
              "#d8576b"
             ],
             [
              0.6666666666666666,
              "#ed7953"
             ],
             [
              0.7777777777777778,
              "#fb9f3a"
             ],
             [
              0.8888888888888888,
              "#fdca26"
             ],
             [
              1,
              "#f0f921"
             ]
            ],
            "type": "contour"
           }
          ],
          "contourcarpet": [
           {
            "colorbar": {
             "outlinewidth": 0,
             "ticks": ""
            },
            "type": "contourcarpet"
           }
          ],
          "heatmap": [
           {
            "colorbar": {
             "outlinewidth": 0,
             "ticks": ""
            },
            "colorscale": [
             [
              0,
              "#0d0887"
             ],
             [
              0.1111111111111111,
              "#46039f"
             ],
             [
              0.2222222222222222,
              "#7201a8"
             ],
             [
              0.3333333333333333,
              "#9c179e"
             ],
             [
              0.4444444444444444,
              "#bd3786"
             ],
             [
              0.5555555555555556,
              "#d8576b"
             ],
             [
              0.6666666666666666,
              "#ed7953"
             ],
             [
              0.7777777777777778,
              "#fb9f3a"
             ],
             [
              0.8888888888888888,
              "#fdca26"
             ],
             [
              1,
              "#f0f921"
             ]
            ],
            "type": "heatmap"
           }
          ],
          "heatmapgl": [
           {
            "colorbar": {
             "outlinewidth": 0,
             "ticks": ""
            },
            "colorscale": [
             [
              0,
              "#0d0887"
             ],
             [
              0.1111111111111111,
              "#46039f"
             ],
             [
              0.2222222222222222,
              "#7201a8"
             ],
             [
              0.3333333333333333,
              "#9c179e"
             ],
             [
              0.4444444444444444,
              "#bd3786"
             ],
             [
              0.5555555555555556,
              "#d8576b"
             ],
             [
              0.6666666666666666,
              "#ed7953"
             ],
             [
              0.7777777777777778,
              "#fb9f3a"
             ],
             [
              0.8888888888888888,
              "#fdca26"
             ],
             [
              1,
              "#f0f921"
             ]
            ],
            "type": "heatmapgl"
           }
          ],
          "histogram": [
           {
            "marker": {
             "pattern": {
              "fillmode": "overlay",
              "size": 10,
              "solidity": 0.2
             }
            },
            "type": "histogram"
           }
          ],
          "histogram2d": [
           {
            "colorbar": {
             "outlinewidth": 0,
             "ticks": ""
            },
            "colorscale": [
             [
              0,
              "#0d0887"
             ],
             [
              0.1111111111111111,
              "#46039f"
             ],
             [
              0.2222222222222222,
              "#7201a8"
             ],
             [
              0.3333333333333333,
              "#9c179e"
             ],
             [
              0.4444444444444444,
              "#bd3786"
             ],
             [
              0.5555555555555556,
              "#d8576b"
             ],
             [
              0.6666666666666666,
              "#ed7953"
             ],
             [
              0.7777777777777778,
              "#fb9f3a"
             ],
             [
              0.8888888888888888,
              "#fdca26"
             ],
             [
              1,
              "#f0f921"
             ]
            ],
            "type": "histogram2d"
           }
          ],
          "histogram2dcontour": [
           {
            "colorbar": {
             "outlinewidth": 0,
             "ticks": ""
            },
            "colorscale": [
             [
              0,
              "#0d0887"
             ],
             [
              0.1111111111111111,
              "#46039f"
             ],
             [
              0.2222222222222222,
              "#7201a8"
             ],
             [
              0.3333333333333333,
              "#9c179e"
             ],
             [
              0.4444444444444444,
              "#bd3786"
             ],
             [
              0.5555555555555556,
              "#d8576b"
             ],
             [
              0.6666666666666666,
              "#ed7953"
             ],
             [
              0.7777777777777778,
              "#fb9f3a"
             ],
             [
              0.8888888888888888,
              "#fdca26"
             ],
             [
              1,
              "#f0f921"
             ]
            ],
            "type": "histogram2dcontour"
           }
          ],
          "mesh3d": [
           {
            "colorbar": {
             "outlinewidth": 0,
             "ticks": ""
            },
            "type": "mesh3d"
           }
          ],
          "parcoords": [
           {
            "line": {
             "colorbar": {
              "outlinewidth": 0,
              "ticks": ""
             }
            },
            "type": "parcoords"
           }
          ],
          "pie": [
           {
            "automargin": true,
            "type": "pie"
           }
          ],
          "scatter": [
           {
            "fillpattern": {
             "fillmode": "overlay",
             "size": 10,
             "solidity": 0.2
            },
            "type": "scatter"
           }
          ],
          "scatter3d": [
           {
            "line": {
             "colorbar": {
              "outlinewidth": 0,
              "ticks": ""
             }
            },
            "marker": {
             "colorbar": {
              "outlinewidth": 0,
              "ticks": ""
             }
            },
            "type": "scatter3d"
           }
          ],
          "scattercarpet": [
           {
            "marker": {
             "colorbar": {
              "outlinewidth": 0,
              "ticks": ""
             }
            },
            "type": "scattercarpet"
           }
          ],
          "scattergeo": [
           {
            "marker": {
             "colorbar": {
              "outlinewidth": 0,
              "ticks": ""
             }
            },
            "type": "scattergeo"
           }
          ],
          "scattergl": [
           {
            "marker": {
             "colorbar": {
              "outlinewidth": 0,
              "ticks": ""
             }
            },
            "type": "scattergl"
           }
          ],
          "scattermapbox": [
           {
            "marker": {
             "colorbar": {
              "outlinewidth": 0,
              "ticks": ""
             }
            },
            "type": "scattermapbox"
           }
          ],
          "scatterpolar": [
           {
            "marker": {
             "colorbar": {
              "outlinewidth": 0,
              "ticks": ""
             }
            },
            "type": "scatterpolar"
           }
          ],
          "scatterpolargl": [
           {
            "marker": {
             "colorbar": {
              "outlinewidth": 0,
              "ticks": ""
             }
            },
            "type": "scatterpolargl"
           }
          ],
          "scatterternary": [
           {
            "marker": {
             "colorbar": {
              "outlinewidth": 0,
              "ticks": ""
             }
            },
            "type": "scatterternary"
           }
          ],
          "surface": [
           {
            "colorbar": {
             "outlinewidth": 0,
             "ticks": ""
            },
            "colorscale": [
             [
              0,
              "#0d0887"
             ],
             [
              0.1111111111111111,
              "#46039f"
             ],
             [
              0.2222222222222222,
              "#7201a8"
             ],
             [
              0.3333333333333333,
              "#9c179e"
             ],
             [
              0.4444444444444444,
              "#bd3786"
             ],
             [
              0.5555555555555556,
              "#d8576b"
             ],
             [
              0.6666666666666666,
              "#ed7953"
             ],
             [
              0.7777777777777778,
              "#fb9f3a"
             ],
             [
              0.8888888888888888,
              "#fdca26"
             ],
             [
              1,
              "#f0f921"
             ]
            ],
            "type": "surface"
           }
          ],
          "table": [
           {
            "cells": {
             "fill": {
              "color": "#EBF0F8"
             },
             "line": {
              "color": "white"
             }
            },
            "header": {
             "fill": {
              "color": "#C8D4E3"
             },
             "line": {
              "color": "white"
             }
            },
            "type": "table"
           }
          ]
         },
         "layout": {
          "annotationdefaults": {
           "arrowcolor": "#2a3f5f",
           "arrowhead": 0,
           "arrowwidth": 1
          },
          "autotypenumbers": "strict",
          "coloraxis": {
           "colorbar": {
            "outlinewidth": 0,
            "ticks": ""
           }
          },
          "colorscale": {
           "diverging": [
            [
             0,
             "#8e0152"
            ],
            [
             0.1,
             "#c51b7d"
            ],
            [
             0.2,
             "#de77ae"
            ],
            [
             0.3,
             "#f1b6da"
            ],
            [
             0.4,
             "#fde0ef"
            ],
            [
             0.5,
             "#f7f7f7"
            ],
            [
             0.6,
             "#e6f5d0"
            ],
            [
             0.7,
             "#b8e186"
            ],
            [
             0.8,
             "#7fbc41"
            ],
            [
             0.9,
             "#4d9221"
            ],
            [
             1,
             "#276419"
            ]
           ],
           "sequential": [
            [
             0,
             "#0d0887"
            ],
            [
             0.1111111111111111,
             "#46039f"
            ],
            [
             0.2222222222222222,
             "#7201a8"
            ],
            [
             0.3333333333333333,
             "#9c179e"
            ],
            [
             0.4444444444444444,
             "#bd3786"
            ],
            [
             0.5555555555555556,
             "#d8576b"
            ],
            [
             0.6666666666666666,
             "#ed7953"
            ],
            [
             0.7777777777777778,
             "#fb9f3a"
            ],
            [
             0.8888888888888888,
             "#fdca26"
            ],
            [
             1,
             "#f0f921"
            ]
           ],
           "sequentialminus": [
            [
             0,
             "#0d0887"
            ],
            [
             0.1111111111111111,
             "#46039f"
            ],
            [
             0.2222222222222222,
             "#7201a8"
            ],
            [
             0.3333333333333333,
             "#9c179e"
            ],
            [
             0.4444444444444444,
             "#bd3786"
            ],
            [
             0.5555555555555556,
             "#d8576b"
            ],
            [
             0.6666666666666666,
             "#ed7953"
            ],
            [
             0.7777777777777778,
             "#fb9f3a"
            ],
            [
             0.8888888888888888,
             "#fdca26"
            ],
            [
             1,
             "#f0f921"
            ]
           ]
          },
          "colorway": [
           "#636efa",
           "#EF553B",
           "#00cc96",
           "#ab63fa",
           "#FFA15A",
           "#19d3f3",
           "#FF6692",
           "#B6E880",
           "#FF97FF",
           "#FECB52"
          ],
          "font": {
           "color": "#2a3f5f"
          },
          "geo": {
           "bgcolor": "white",
           "lakecolor": "white",
           "landcolor": "#E5ECF6",
           "showlakes": true,
           "showland": true,
           "subunitcolor": "white"
          },
          "hoverlabel": {
           "align": "left"
          },
          "hovermode": "closest",
          "mapbox": {
           "style": "light"
          },
          "paper_bgcolor": "white",
          "plot_bgcolor": "#E5ECF6",
          "polar": {
           "angularaxis": {
            "gridcolor": "white",
            "linecolor": "white",
            "ticks": ""
           },
           "bgcolor": "#E5ECF6",
           "radialaxis": {
            "gridcolor": "white",
            "linecolor": "white",
            "ticks": ""
           }
          },
          "scene": {
           "xaxis": {
            "backgroundcolor": "#E5ECF6",
            "gridcolor": "white",
            "gridwidth": 2,
            "linecolor": "white",
            "showbackground": true,
            "ticks": "",
            "zerolinecolor": "white"
           },
           "yaxis": {
            "backgroundcolor": "#E5ECF6",
            "gridcolor": "white",
            "gridwidth": 2,
            "linecolor": "white",
            "showbackground": true,
            "ticks": "",
            "zerolinecolor": "white"
           },
           "zaxis": {
            "backgroundcolor": "#E5ECF6",
            "gridcolor": "white",
            "gridwidth": 2,
            "linecolor": "white",
            "showbackground": true,
            "ticks": "",
            "zerolinecolor": "white"
           }
          },
          "shapedefaults": {
           "line": {
            "color": "#2a3f5f"
           }
          },
          "ternary": {
           "aaxis": {
            "gridcolor": "white",
            "linecolor": "white",
            "ticks": ""
           },
           "baxis": {
            "gridcolor": "white",
            "linecolor": "white",
            "ticks": ""
           },
           "bgcolor": "#E5ECF6",
           "caxis": {
            "gridcolor": "white",
            "linecolor": "white",
            "ticks": ""
           }
          },
          "title": {
           "x": 0.05
          },
          "xaxis": {
           "automargin": true,
           "gridcolor": "white",
           "linecolor": "white",
           "ticks": "",
           "title": {
            "standoff": 15
           },
           "zerolinecolor": "white",
           "zerolinewidth": 2
          },
          "yaxis": {
           "automargin": true,
           "gridcolor": "white",
           "linecolor": "white",
           "ticks": "",
           "title": {
            "standoff": 15
           },
           "zerolinecolor": "white",
           "zerolinewidth": 2
          }
         }
        },
        "xaxis": {
         "anchor": "y",
         "domain": [
          0,
          1
         ],
         "title": {
          "text": "index"
         }
        },
        "yaxis": {
         "anchor": "x",
         "domain": [
          0,
          1
         ],
         "title": {
          "text": "value"
         }
        }
       }
      },
      "text/html": [
       "<div>                            <div id=\"f6a3a8b6-8249-4ef4-a696-08a92de8b5bd\" class=\"plotly-graph-div\" style=\"height:525px; width:100%;\"></div>            <script type=\"text/javascript\">                require([\"plotly\"], function(Plotly) {                    window.PLOTLYENV=window.PLOTLYENV || {};                                    if (document.getElementById(\"f6a3a8b6-8249-4ef4-a696-08a92de8b5bd\")) {                    Plotly.newPlot(                        \"f6a3a8b6-8249-4ef4-a696-08a92de8b5bd\",                        [{\"alignmentgroup\":\"True\",\"hovertemplate\":\"variable=count\\u003cbr\\u003eindex=%{x}\\u003cbr\\u003evalue=%{y}\\u003cextra\\u003e\\u003c\\u002fextra\\u003e\",\"legendgroup\":\"count\",\"marker\":{\"color\":\"#636efa\",\"pattern\":{\"shape\":\"\"}},\"name\":\"count\",\"offsetgroup\":\"count\",\"orientation\":\"v\",\"showlegend\":true,\"textposition\":\"auto\",\"x\":[1,2,3,4,5,6,7,8,9,10,11,13,12,14,15,16,17,18,19,20,24,21,26,30,29,22,31,27,25,35,28,23,32,37,42,40,38,52,33,34,44,43,36,41,47,48,49,50,51,115,66,69,59,61,174,89,76,77,79,96,93,94,99,102,125,70,65,68,67,45,64,63,62,60,58,57,56,54,46,179],\"xaxis\":\"x\",\"y\":[149214,10866,3037,1390,725,446,328,223,152,125,86,69,68,51,46,35,32,27,20,20,18,16,12,11,11,10,10,8,8,8,6,6,6,5,5,5,5,3,3,3,3,3,2,2,2,2,2,2,2,2,2,2,2,2,1,1,1,1,1,1,1,1,1,1,1,1,1,1,1,1,1,1,1,1,1,1,1,1,1,1],\"yaxis\":\"y\",\"type\":\"bar\"}],                        {\"template\":{\"data\":{\"histogram2dcontour\":[{\"type\":\"histogram2dcontour\",\"colorbar\":{\"outlinewidth\":0,\"ticks\":\"\"},\"colorscale\":[[0.0,\"#0d0887\"],[0.1111111111111111,\"#46039f\"],[0.2222222222222222,\"#7201a8\"],[0.3333333333333333,\"#9c179e\"],[0.4444444444444444,\"#bd3786\"],[0.5555555555555556,\"#d8576b\"],[0.6666666666666666,\"#ed7953\"],[0.7777777777777778,\"#fb9f3a\"],[0.8888888888888888,\"#fdca26\"],[1.0,\"#f0f921\"]]}],\"choropleth\":[{\"type\":\"choropleth\",\"colorbar\":{\"outlinewidth\":0,\"ticks\":\"\"}}],\"histogram2d\":[{\"type\":\"histogram2d\",\"colorbar\":{\"outlinewidth\":0,\"ticks\":\"\"},\"colorscale\":[[0.0,\"#0d0887\"],[0.1111111111111111,\"#46039f\"],[0.2222222222222222,\"#7201a8\"],[0.3333333333333333,\"#9c179e\"],[0.4444444444444444,\"#bd3786\"],[0.5555555555555556,\"#d8576b\"],[0.6666666666666666,\"#ed7953\"],[0.7777777777777778,\"#fb9f3a\"],[0.8888888888888888,\"#fdca26\"],[1.0,\"#f0f921\"]]}],\"heatmap\":[{\"type\":\"heatmap\",\"colorbar\":{\"outlinewidth\":0,\"ticks\":\"\"},\"colorscale\":[[0.0,\"#0d0887\"],[0.1111111111111111,\"#46039f\"],[0.2222222222222222,\"#7201a8\"],[0.3333333333333333,\"#9c179e\"],[0.4444444444444444,\"#bd3786\"],[0.5555555555555556,\"#d8576b\"],[0.6666666666666666,\"#ed7953\"],[0.7777777777777778,\"#fb9f3a\"],[0.8888888888888888,\"#fdca26\"],[1.0,\"#f0f921\"]]}],\"heatmapgl\":[{\"type\":\"heatmapgl\",\"colorbar\":{\"outlinewidth\":0,\"ticks\":\"\"},\"colorscale\":[[0.0,\"#0d0887\"],[0.1111111111111111,\"#46039f\"],[0.2222222222222222,\"#7201a8\"],[0.3333333333333333,\"#9c179e\"],[0.4444444444444444,\"#bd3786\"],[0.5555555555555556,\"#d8576b\"],[0.6666666666666666,\"#ed7953\"],[0.7777777777777778,\"#fb9f3a\"],[0.8888888888888888,\"#fdca26\"],[1.0,\"#f0f921\"]]}],\"contourcarpet\":[{\"type\":\"contourcarpet\",\"colorbar\":{\"outlinewidth\":0,\"ticks\":\"\"}}],\"contour\":[{\"type\":\"contour\",\"colorbar\":{\"outlinewidth\":0,\"ticks\":\"\"},\"colorscale\":[[0.0,\"#0d0887\"],[0.1111111111111111,\"#46039f\"],[0.2222222222222222,\"#7201a8\"],[0.3333333333333333,\"#9c179e\"],[0.4444444444444444,\"#bd3786\"],[0.5555555555555556,\"#d8576b\"],[0.6666666666666666,\"#ed7953\"],[0.7777777777777778,\"#fb9f3a\"],[0.8888888888888888,\"#fdca26\"],[1.0,\"#f0f921\"]]}],\"surface\":[{\"type\":\"surface\",\"colorbar\":{\"outlinewidth\":0,\"ticks\":\"\"},\"colorscale\":[[0.0,\"#0d0887\"],[0.1111111111111111,\"#46039f\"],[0.2222222222222222,\"#7201a8\"],[0.3333333333333333,\"#9c179e\"],[0.4444444444444444,\"#bd3786\"],[0.5555555555555556,\"#d8576b\"],[0.6666666666666666,\"#ed7953\"],[0.7777777777777778,\"#fb9f3a\"],[0.8888888888888888,\"#fdca26\"],[1.0,\"#f0f921\"]]}],\"mesh3d\":[{\"type\":\"mesh3d\",\"colorbar\":{\"outlinewidth\":0,\"ticks\":\"\"}}],\"scatter\":[{\"fillpattern\":{\"fillmode\":\"overlay\",\"size\":10,\"solidity\":0.2},\"type\":\"scatter\"}],\"parcoords\":[{\"type\":\"parcoords\",\"line\":{\"colorbar\":{\"outlinewidth\":0,\"ticks\":\"\"}}}],\"scatterpolargl\":[{\"type\":\"scatterpolargl\",\"marker\":{\"colorbar\":{\"outlinewidth\":0,\"ticks\":\"\"}}}],\"bar\":[{\"error_x\":{\"color\":\"#2a3f5f\"},\"error_y\":{\"color\":\"#2a3f5f\"},\"marker\":{\"line\":{\"color\":\"#E5ECF6\",\"width\":0.5},\"pattern\":{\"fillmode\":\"overlay\",\"size\":10,\"solidity\":0.2}},\"type\":\"bar\"}],\"scattergeo\":[{\"type\":\"scattergeo\",\"marker\":{\"colorbar\":{\"outlinewidth\":0,\"ticks\":\"\"}}}],\"scatterpolar\":[{\"type\":\"scatterpolar\",\"marker\":{\"colorbar\":{\"outlinewidth\":0,\"ticks\":\"\"}}}],\"histogram\":[{\"marker\":{\"pattern\":{\"fillmode\":\"overlay\",\"size\":10,\"solidity\":0.2}},\"type\":\"histogram\"}],\"scattergl\":[{\"type\":\"scattergl\",\"marker\":{\"colorbar\":{\"outlinewidth\":0,\"ticks\":\"\"}}}],\"scatter3d\":[{\"type\":\"scatter3d\",\"line\":{\"colorbar\":{\"outlinewidth\":0,\"ticks\":\"\"}},\"marker\":{\"colorbar\":{\"outlinewidth\":0,\"ticks\":\"\"}}}],\"scattermapbox\":[{\"type\":\"scattermapbox\",\"marker\":{\"colorbar\":{\"outlinewidth\":0,\"ticks\":\"\"}}}],\"scatterternary\":[{\"type\":\"scatterternary\",\"marker\":{\"colorbar\":{\"outlinewidth\":0,\"ticks\":\"\"}}}],\"scattercarpet\":[{\"type\":\"scattercarpet\",\"marker\":{\"colorbar\":{\"outlinewidth\":0,\"ticks\":\"\"}}}],\"carpet\":[{\"aaxis\":{\"endlinecolor\":\"#2a3f5f\",\"gridcolor\":\"white\",\"linecolor\":\"white\",\"minorgridcolor\":\"white\",\"startlinecolor\":\"#2a3f5f\"},\"baxis\":{\"endlinecolor\":\"#2a3f5f\",\"gridcolor\":\"white\",\"linecolor\":\"white\",\"minorgridcolor\":\"white\",\"startlinecolor\":\"#2a3f5f\"},\"type\":\"carpet\"}],\"table\":[{\"cells\":{\"fill\":{\"color\":\"#EBF0F8\"},\"line\":{\"color\":\"white\"}},\"header\":{\"fill\":{\"color\":\"#C8D4E3\"},\"line\":{\"color\":\"white\"}},\"type\":\"table\"}],\"barpolar\":[{\"marker\":{\"line\":{\"color\":\"#E5ECF6\",\"width\":0.5},\"pattern\":{\"fillmode\":\"overlay\",\"size\":10,\"solidity\":0.2}},\"type\":\"barpolar\"}],\"pie\":[{\"automargin\":true,\"type\":\"pie\"}]},\"layout\":{\"autotypenumbers\":\"strict\",\"colorway\":[\"#636efa\",\"#EF553B\",\"#00cc96\",\"#ab63fa\",\"#FFA15A\",\"#19d3f3\",\"#FF6692\",\"#B6E880\",\"#FF97FF\",\"#FECB52\"],\"font\":{\"color\":\"#2a3f5f\"},\"hovermode\":\"closest\",\"hoverlabel\":{\"align\":\"left\"},\"paper_bgcolor\":\"white\",\"plot_bgcolor\":\"#E5ECF6\",\"polar\":{\"bgcolor\":\"#E5ECF6\",\"angularaxis\":{\"gridcolor\":\"white\",\"linecolor\":\"white\",\"ticks\":\"\"},\"radialaxis\":{\"gridcolor\":\"white\",\"linecolor\":\"white\",\"ticks\":\"\"}},\"ternary\":{\"bgcolor\":\"#E5ECF6\",\"aaxis\":{\"gridcolor\":\"white\",\"linecolor\":\"white\",\"ticks\":\"\"},\"baxis\":{\"gridcolor\":\"white\",\"linecolor\":\"white\",\"ticks\":\"\"},\"caxis\":{\"gridcolor\":\"white\",\"linecolor\":\"white\",\"ticks\":\"\"}},\"coloraxis\":{\"colorbar\":{\"outlinewidth\":0,\"ticks\":\"\"}},\"colorscale\":{\"sequential\":[[0.0,\"#0d0887\"],[0.1111111111111111,\"#46039f\"],[0.2222222222222222,\"#7201a8\"],[0.3333333333333333,\"#9c179e\"],[0.4444444444444444,\"#bd3786\"],[0.5555555555555556,\"#d8576b\"],[0.6666666666666666,\"#ed7953\"],[0.7777777777777778,\"#fb9f3a\"],[0.8888888888888888,\"#fdca26\"],[1.0,\"#f0f921\"]],\"sequentialminus\":[[0.0,\"#0d0887\"],[0.1111111111111111,\"#46039f\"],[0.2222222222222222,\"#7201a8\"],[0.3333333333333333,\"#9c179e\"],[0.4444444444444444,\"#bd3786\"],[0.5555555555555556,\"#d8576b\"],[0.6666666666666666,\"#ed7953\"],[0.7777777777777778,\"#fb9f3a\"],[0.8888888888888888,\"#fdca26\"],[1.0,\"#f0f921\"]],\"diverging\":[[0,\"#8e0152\"],[0.1,\"#c51b7d\"],[0.2,\"#de77ae\"],[0.3,\"#f1b6da\"],[0.4,\"#fde0ef\"],[0.5,\"#f7f7f7\"],[0.6,\"#e6f5d0\"],[0.7,\"#b8e186\"],[0.8,\"#7fbc41\"],[0.9,\"#4d9221\"],[1,\"#276419\"]]},\"xaxis\":{\"gridcolor\":\"white\",\"linecolor\":\"white\",\"ticks\":\"\",\"title\":{\"standoff\":15},\"zerolinecolor\":\"white\",\"automargin\":true,\"zerolinewidth\":2},\"yaxis\":{\"gridcolor\":\"white\",\"linecolor\":\"white\",\"ticks\":\"\",\"title\":{\"standoff\":15},\"zerolinecolor\":\"white\",\"automargin\":true,\"zerolinewidth\":2},\"scene\":{\"xaxis\":{\"backgroundcolor\":\"#E5ECF6\",\"gridcolor\":\"white\",\"linecolor\":\"white\",\"showbackground\":true,\"ticks\":\"\",\"zerolinecolor\":\"white\",\"gridwidth\":2},\"yaxis\":{\"backgroundcolor\":\"#E5ECF6\",\"gridcolor\":\"white\",\"linecolor\":\"white\",\"showbackground\":true,\"ticks\":\"\",\"zerolinecolor\":\"white\",\"gridwidth\":2},\"zaxis\":{\"backgroundcolor\":\"#E5ECF6\",\"gridcolor\":\"white\",\"linecolor\":\"white\",\"showbackground\":true,\"ticks\":\"\",\"zerolinecolor\":\"white\",\"gridwidth\":2}},\"shapedefaults\":{\"line\":{\"color\":\"#2a3f5f\"}},\"annotationdefaults\":{\"arrowcolor\":\"#2a3f5f\",\"arrowhead\":0,\"arrowwidth\":1},\"geo\":{\"bgcolor\":\"white\",\"landcolor\":\"#E5ECF6\",\"subunitcolor\":\"white\",\"showland\":true,\"showlakes\":true,\"lakecolor\":\"white\"},\"title\":{\"x\":0.05},\"mapbox\":{\"style\":\"light\"}}},\"xaxis\":{\"anchor\":\"y\",\"domain\":[0.0,1.0],\"title\":{\"text\":\"index\"}},\"yaxis\":{\"anchor\":\"x\",\"domain\":[0.0,1.0],\"title\":{\"text\":\"value\"}},\"legend\":{\"title\":{\"text\":\"variable\"},\"tracegroupgap\":0},\"margin\":{\"t\":60},\"barmode\":\"relative\"},                        {\"responsive\": true}                    ).then(function(){\n",
       "                            \n",
       "var gd = document.getElementById('f6a3a8b6-8249-4ef4-a696-08a92de8b5bd');\n",
       "var x = new MutationObserver(function (mutations, observer) {{\n",
       "        var display = window.getComputedStyle(gd).display;\n",
       "        if (!display || display === 'none') {{\n",
       "            console.log([gd, 'removed!']);\n",
       "            Plotly.purge(gd);\n",
       "            observer.disconnect();\n",
       "        }}\n",
       "}});\n",
       "\n",
       "// Listen for the removal of the full notebook cells\n",
       "var notebookContainer = gd.closest('#notebook-container');\n",
       "if (notebookContainer) {{\n",
       "    x.observe(notebookContainer, {childList: true});\n",
       "}}\n",
       "\n",
       "// Listen for the clearing of the current output cell\n",
       "var outputEl = gd.closest('.output');\n",
       "if (outputEl) {{\n",
       "    x.observe(outputEl, {childList: true});\n",
       "}}\n",
       "\n",
       "                        })                };                });            </script>        </div>"
      ]
     },
     "metadata": {},
     "output_type": "display_data"
    }
   ],
   "source": [
    "import plotly.express as px\n",
    "px.bar(rt_counts.value_counts())"
   ]
  },
  {
   "cell_type": "code",
   "execution_count": null,
   "id": "a1295515",
   "metadata": {},
   "outputs": [],
   "source": []
  }
 ],
 "metadata": {
  "kernelspec": {
   "display_name": "twitterpreds_gnn",
   "language": "python",
   "name": "twitterpreds_gnn"
  },
  "language_info": {
   "codemirror_mode": {
    "name": "ipython",
    "version": 3
   },
   "file_extension": ".py",
   "mimetype": "text/x-python",
   "name": "python",
   "nbconvert_exporter": "python",
   "pygments_lexer": "ipython3",
   "version": "3.10.10"
  }
 },
 "nbformat": 4,
 "nbformat_minor": 5
}
