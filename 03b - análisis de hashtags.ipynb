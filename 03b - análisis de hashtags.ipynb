{
 "cells": [
  {
   "cell_type": "markdown",
   "id": "81a7463f",
   "metadata": {},
   "source": [
    "1. Cargar tuits"
   ]
  },
  {
   "cell_type": "code",
   "execution_count": 2,
   "id": "c5d99d81",
   "metadata": {
    "ExecuteTime": {
     "end_time": "2024-11-19T20:43:15.862082Z",
     "start_time": "2024-11-19T20:43:15.115958Z"
    }
   },
   "outputs": [],
   "source": [
    "import pandas as pd\n",
    "import random"
   ]
  },
  {
   "cell_type": "code",
   "execution_count": 3,
   "id": "83cde5dd",
   "metadata": {
    "ExecuteTime": {
     "end_time": "2024-11-19T20:43:56.723825Z",
     "start_time": "2024-11-19T20:43:15.867053Z"
    }
   },
   "outputs": [],
   "source": [
    "sample_rate = 0.1\n",
    "chunk_size = 10000  # Adjust the chunk size as needed\n",
    "all_chunks = []\n",
    "\n",
    "for i in range(1,8):\n",
    "    chunks = pd.read_csv(f'data/tweets_batch_00{i}.tsv', sep='\\t',\n",
    "                         usecols=[\"tweet_id\", \"user_id\", \"full_text\"],\n",
    "                         engine='python',\n",
    "                         on_bad_lines='skip',\n",
    "                         skiprows=lambda i: i>0 and random.random() > sample_rate,\n",
    "                         chunksize=chunk_size)\n",
    "    all_chunks += chunks\n",
    "\n",
    "df = pd.concat(all_chunks, ignore_index=True)\n",
    "\n",
    "for f in [\"user_id\"]:\n",
    "    df[f] = df[f].astype(\"Int64\")"
   ]
  },
  {
   "cell_type": "code",
   "execution_count": 4,
   "id": "dba4c358",
   "metadata": {},
   "outputs": [
    {
     "data": {
      "text/plain": "                   tweet_id              user_id  \\\n0       1249125075124654080   924699708790108160   \n1       1249125075846135808             36018626   \n2       1249125076152320001            118864905   \n3       1249125077020532740            233033221   \n4       1249125076663971840            219686511   \n...                     ...                  ...   \n616224  1251661739734769664            151167071   \n616225  1251661740284145665   896189817209401344   \n616226  1251661743618584577            219793349   \n616227  1251661744554102785  1050700467867652096   \n616228  1251661748219686913   782058499798818816   \n\n                                                full_text  \n0       Eje Metropolitano ha sido priorizado con las j...  \n1       AMLO pide a Trump le venda 10 mil ventiladores...  \n2       Pueblo de Granada agradece donación de pruebas...  \n3       Desafíos y oportunidades por el COVID-19 https...  \n4       Si ya consultaste que en tu hogar nadie ha sid...  \n...                                                   ...  \n616224  Reporte vespertino #coronavirus @msalnacion\\n\\...  \n616225  Adriana, una doctora que trabajaba en una resi...  \n616226  Salió del hospital después de haberse recupera...  \n616227  @Kiarita9621 @maryvarelaGH Se ven afectados me...  \n616228  En Monterrey han iniciado un ensayo clínico al...  \n\n[616229 rows x 3 columns]",
      "text/html": "<div>\n<style scoped>\n    .dataframe tbody tr th:only-of-type {\n        vertical-align: middle;\n    }\n\n    .dataframe tbody tr th {\n        vertical-align: top;\n    }\n\n    .dataframe thead th {\n        text-align: right;\n    }\n</style>\n<table border=\"1\" class=\"dataframe\">\n  <thead>\n    <tr style=\"text-align: right;\">\n      <th></th>\n      <th>tweet_id</th>\n      <th>user_id</th>\n      <th>full_text</th>\n    </tr>\n  </thead>\n  <tbody>\n    <tr>\n      <th>0</th>\n      <td>1249125075124654080</td>\n      <td>924699708790108160</td>\n      <td>Eje Metropolitano ha sido priorizado con las j...</td>\n    </tr>\n    <tr>\n      <th>1</th>\n      <td>1249125075846135808</td>\n      <td>36018626</td>\n      <td>AMLO pide a Trump le venda 10 mil ventiladores...</td>\n    </tr>\n    <tr>\n      <th>2</th>\n      <td>1249125076152320001</td>\n      <td>118864905</td>\n      <td>Pueblo de Granada agradece donación de pruebas...</td>\n    </tr>\n    <tr>\n      <th>3</th>\n      <td>1249125077020532740</td>\n      <td>233033221</td>\n      <td>Desafíos y oportunidades por el COVID-19 https...</td>\n    </tr>\n    <tr>\n      <th>4</th>\n      <td>1249125076663971840</td>\n      <td>219686511</td>\n      <td>Si ya consultaste que en tu hogar nadie ha sid...</td>\n    </tr>\n    <tr>\n      <th>...</th>\n      <td>...</td>\n      <td>...</td>\n      <td>...</td>\n    </tr>\n    <tr>\n      <th>616224</th>\n      <td>1251661739734769664</td>\n      <td>151167071</td>\n      <td>Reporte vespertino #coronavirus @msalnacion\\n\\...</td>\n    </tr>\n    <tr>\n      <th>616225</th>\n      <td>1251661740284145665</td>\n      <td>896189817209401344</td>\n      <td>Adriana, una doctora que trabajaba en una resi...</td>\n    </tr>\n    <tr>\n      <th>616226</th>\n      <td>1251661743618584577</td>\n      <td>219793349</td>\n      <td>Salió del hospital después de haberse recupera...</td>\n    </tr>\n    <tr>\n      <th>616227</th>\n      <td>1251661744554102785</td>\n      <td>1050700467867652096</td>\n      <td>@Kiarita9621 @maryvarelaGH Se ven afectados me...</td>\n    </tr>\n    <tr>\n      <th>616228</th>\n      <td>1251661748219686913</td>\n      <td>782058499798818816</td>\n      <td>En Monterrey han iniciado un ensayo clínico al...</td>\n    </tr>\n  </tbody>\n</table>\n<p>616229 rows × 3 columns</p>\n</div>"
     },
     "execution_count": 4,
     "metadata": {},
     "output_type": "execute_result"
    }
   ],
   "source": [
    "df"
   ]
  },
  {
   "cell_type": "code",
   "execution_count": 6,
   "id": "f6475d44-8eb6-4f50-82fc-fafcced86a75",
   "metadata": {
    "ExecuteTime": {
     "end_time": "2024-11-19T20:44:07.870733Z",
     "start_time": "2024-11-19T20:44:07.864169Z"
    }
   },
   "outputs": [
    {
     "data": {
      "text/plain": "616229"
     },
     "execution_count": 6,
     "metadata": {},
     "output_type": "execute_result"
    }
   ],
   "source": [
    "len(df)"
   ]
  },
  {
   "cell_type": "code",
   "execution_count": 7,
   "id": "78c475c9",
   "metadata": {
    "ExecuteTime": {
     "end_time": "2024-11-19T20:44:16.573784Z",
     "start_time": "2024-11-19T20:44:16.528499Z"
    }
   },
   "outputs": [],
   "source": [
    "docs = df\n",
    "docs = docs.full_text.dropna().values.tolist()"
   ]
  },
  {
   "cell_type": "code",
   "execution_count": 8,
   "id": "e95d5e0b",
   "metadata": {
    "ExecuteTime": {
     "end_time": "2024-11-19T20:44:21.795397Z",
     "start_time": "2024-11-19T20:44:21.768096Z"
    }
   },
   "outputs": [
    {
     "data": {
      "text/plain": "616212"
     },
     "execution_count": 8,
     "metadata": {},
     "output_type": "execute_result"
    }
   ],
   "source": [
    "len(docs)"
   ]
  },
  {
   "cell_type": "code",
   "execution_count": 9,
   "id": "2dc99f79-bf3e-415a-b7bc-c9d0054ad9d9",
   "metadata": {
    "ExecuteTime": {
     "end_time": "2024-11-19T20:44:22.452965Z",
     "start_time": "2024-11-19T20:44:22.425823Z"
    }
   },
   "outputs": [
    {
     "data": {
      "text/plain": "['Eje Metropolitano ha sido priorizado con las jornadas de desinfección en espacios públicos, calles y avenidas por registrar la mayoría de los casos de COVID-19. #QuédateEnCasa #11Abr https://t.co/UmNE7aVpcJ https://t.co/eViyEKHQuh',\n 'AMLO pide a Trump le venda 10 mil ventiladores y equipo para enfrentar el covid-19!\\n#NOTIVER #VERACRUZ #NACIONALES \\nhttps://t.co/HzD8nwvIYX']"
     },
     "execution_count": 9,
     "metadata": {},
     "output_type": "execute_result"
    }
   ],
   "source": [
    "docs[:2]"
   ]
  },
  {
   "cell_type": "markdown",
   "source": [
    "## Hashtags populares"
   ],
   "metadata": {
    "collapsed": false
   }
  },
  {
   "cell_type": "code",
   "execution_count": 10,
   "outputs": [],
   "source": [
    "import re\n",
    "\n",
    "import unicodedata\n",
    "\n",
    "def remove_accents(input_str):\n",
    "    nfkd_form = unicodedata.normalize('NFKD', input_str)\n",
    "    only_ascii = nfkd_form.encode('ASCII', 'ignore')\n",
    "    return str(only_ascii)\n",
    "\n",
    "def extract_hashtags(s):\n",
    "    return [\n",
    "        remove_accents(ht.lower())\n",
    "        for ht in re.findall(r\"#(\\w+)\", s)\n",
    "    ]"
   ],
   "metadata": {
    "collapsed": false,
    "ExecuteTime": {
     "end_time": "2024-11-19T20:44:56.861696Z",
     "start_time": "2024-11-19T20:44:56.842569Z"
    }
   }
  },
  {
   "cell_type": "code",
   "execution_count": 11,
   "outputs": [
    {
     "data": {
      "text/plain": "              tweet_id             user_id  \\\n0  1249125075124654080  924699708790108160   \n1  1249125075846135808            36018626   \n2  1249125076152320001           118864905   \n3  1249125077020532740           233033221   \n4  1249125076663971840           219686511   \n\n                                           full_text  \n0  Eje Metropolitano ha sido priorizado con las j...  \n1  AMLO pide a Trump le venda 10 mil ventiladores...  \n2  Pueblo de Granada agradece donación de pruebas...  \n3  Desafíos y oportunidades por el COVID-19 https...  \n4  Si ya consultaste que en tu hogar nadie ha sid...  ",
      "text/html": "<div>\n<style scoped>\n    .dataframe tbody tr th:only-of-type {\n        vertical-align: middle;\n    }\n\n    .dataframe tbody tr th {\n        vertical-align: top;\n    }\n\n    .dataframe thead th {\n        text-align: right;\n    }\n</style>\n<table border=\"1\" class=\"dataframe\">\n  <thead>\n    <tr style=\"text-align: right;\">\n      <th></th>\n      <th>tweet_id</th>\n      <th>user_id</th>\n      <th>full_text</th>\n    </tr>\n  </thead>\n  <tbody>\n    <tr>\n      <th>0</th>\n      <td>1249125075124654080</td>\n      <td>924699708790108160</td>\n      <td>Eje Metropolitano ha sido priorizado con las j...</td>\n    </tr>\n    <tr>\n      <th>1</th>\n      <td>1249125075846135808</td>\n      <td>36018626</td>\n      <td>AMLO pide a Trump le venda 10 mil ventiladores...</td>\n    </tr>\n    <tr>\n      <th>2</th>\n      <td>1249125076152320001</td>\n      <td>118864905</td>\n      <td>Pueblo de Granada agradece donación de pruebas...</td>\n    </tr>\n    <tr>\n      <th>3</th>\n      <td>1249125077020532740</td>\n      <td>233033221</td>\n      <td>Desafíos y oportunidades por el COVID-19 https...</td>\n    </tr>\n    <tr>\n      <th>4</th>\n      <td>1249125076663971840</td>\n      <td>219686511</td>\n      <td>Si ya consultaste que en tu hogar nadie ha sid...</td>\n    </tr>\n  </tbody>\n</table>\n</div>"
     },
     "execution_count": 11,
     "metadata": {},
     "output_type": "execute_result"
    }
   ],
   "source": [
    "df.head()"
   ],
   "metadata": {
    "collapsed": false,
    "ExecuteTime": {
     "end_time": "2024-11-19T20:44:57.476267Z",
     "start_time": "2024-11-19T20:44:57.457912Z"
    }
   }
  },
  {
   "cell_type": "code",
   "execution_count": 12,
   "outputs": [],
   "source": [
    "df[\"full_text\"] = df.full_text.astype(str)"
   ],
   "metadata": {
    "collapsed": false,
    "ExecuteTime": {
     "end_time": "2024-11-19T20:45:01.007541Z",
     "start_time": "2024-11-19T20:45:00.992581Z"
    }
   }
  },
  {
   "cell_type": "code",
   "execution_count": 13,
   "outputs": [],
   "source": [
    "df[\"hashtags\"] = df.full_text.apply(extract_hashtags)"
   ],
   "metadata": {
    "collapsed": false,
    "ExecuteTime": {
     "end_time": "2024-11-19T20:45:04.320551Z",
     "start_time": "2024-11-19T20:45:02.190772Z"
    }
   }
  },
  {
   "cell_type": "code",
   "execution_count": 14,
   "outputs": [
    {
     "data": {
      "text/plain": "              tweet_id             user_id  \\\n0  1249125075124654080  924699708790108160   \n1  1249125075846135808            36018626   \n2  1249125076152320001           118864905   \n3  1249125077020532740           233033221   \n4  1249125076663971840           219686511   \n\n                                           full_text  \\\n0  Eje Metropolitano ha sido priorizado con las j...   \n1  AMLO pide a Trump le venda 10 mil ventiladores...   \n2  Pueblo de Granada agradece donación de pruebas...   \n3  Desafíos y oportunidades por el COVID-19 https...   \n4  Si ya consultaste que en tu hogar nadie ha sid...   \n\n                                   hashtags  \n0              [b'quedateencasa', b'11abr']  \n1  [b'notiver', b'veracruz', b'nacionales']  \n2                [b'hermandadenvanguardia']  \n3                                        []  \n4                      [b'alertacovid19sv']  ",
      "text/html": "<div>\n<style scoped>\n    .dataframe tbody tr th:only-of-type {\n        vertical-align: middle;\n    }\n\n    .dataframe tbody tr th {\n        vertical-align: top;\n    }\n\n    .dataframe thead th {\n        text-align: right;\n    }\n</style>\n<table border=\"1\" class=\"dataframe\">\n  <thead>\n    <tr style=\"text-align: right;\">\n      <th></th>\n      <th>tweet_id</th>\n      <th>user_id</th>\n      <th>full_text</th>\n      <th>hashtags</th>\n    </tr>\n  </thead>\n  <tbody>\n    <tr>\n      <th>0</th>\n      <td>1249125075124654080</td>\n      <td>924699708790108160</td>\n      <td>Eje Metropolitano ha sido priorizado con las j...</td>\n      <td>[b'quedateencasa', b'11abr']</td>\n    </tr>\n    <tr>\n      <th>1</th>\n      <td>1249125075846135808</td>\n      <td>36018626</td>\n      <td>AMLO pide a Trump le venda 10 mil ventiladores...</td>\n      <td>[b'notiver', b'veracruz', b'nacionales']</td>\n    </tr>\n    <tr>\n      <th>2</th>\n      <td>1249125076152320001</td>\n      <td>118864905</td>\n      <td>Pueblo de Granada agradece donación de pruebas...</td>\n      <td>[b'hermandadenvanguardia']</td>\n    </tr>\n    <tr>\n      <th>3</th>\n      <td>1249125077020532740</td>\n      <td>233033221</td>\n      <td>Desafíos y oportunidades por el COVID-19 https...</td>\n      <td>[]</td>\n    </tr>\n    <tr>\n      <th>4</th>\n      <td>1249125076663971840</td>\n      <td>219686511</td>\n      <td>Si ya consultaste que en tu hogar nadie ha sid...</td>\n      <td>[b'alertacovid19sv']</td>\n    </tr>\n  </tbody>\n</table>\n</div>"
     },
     "execution_count": 14,
     "metadata": {},
     "output_type": "execute_result"
    }
   ],
   "source": [
    "df.head()"
   ],
   "metadata": {
    "collapsed": false,
    "ExecuteTime": {
     "end_time": "2024-11-19T20:45:05.631056Z",
     "start_time": "2024-11-19T20:45:05.613658Z"
    }
   }
  },
  {
   "cell_type": "code",
   "execution_count": 15,
   "outputs": [],
   "source": [
    "from collections import Counter"
   ],
   "metadata": {
    "collapsed": false,
    "ExecuteTime": {
     "end_time": "2024-11-19T20:45:08.105926Z",
     "start_time": "2024-11-19T20:45:08.084242Z"
    }
   }
  },
  {
   "cell_type": "code",
   "execution_count": 16,
   "outputs": [],
   "source": [
    "ht_counts = Counter()"
   ],
   "metadata": {
    "collapsed": false,
    "ExecuteTime": {
     "end_time": "2024-11-19T20:45:08.948824Z",
     "start_time": "2024-11-19T20:45:08.929189Z"
    }
   }
  },
  {
   "cell_type": "code",
   "execution_count": 17,
   "outputs": [],
   "source": [
    "for hts in df.hashtags.values:\n",
    "    ht_counts.update(hts)"
   ],
   "metadata": {
    "collapsed": false,
    "ExecuteTime": {
     "end_time": "2024-11-19T20:45:10.277825Z",
     "start_time": "2024-11-19T20:45:09.708925Z"
    }
   }
  },
  {
   "cell_type": "code",
   "execution_count": 18,
   "outputs": [
    {
     "data": {
      "text/plain": "[(\"b'covid19'\", 187704),\n (\"b'quedateencasa'\", 29871),\n (\"b'coronavirus'\", 23025),\n (\"b'covid'\", 10828),\n (\"b'cuba'\", 9372),\n (\"b'covid_19'\", 5910),\n (\"b'cubasalvavidas'\", 4324),\n (\"b'atencionmedicadecalidad'\", 4273),\n (\"b'venezuela'\", 4155),\n (\"b'estevirusloparamosunidos'\", 3904),\n (\"b'yomequedoencasa'\", 3418),\n (\"b'eeuu'\", 3201),\n (\"b'laprevencioneslaclave'\", 3023),\n (\"b'yoapoyolacuarentena'\", 2828),\n (\"b'ultimahora'\", 2731),\n (\"b'covid19mx'\", 2661),\n (\"b'venezuelabellaenrevolucion'\", 2637),\n (\"b'cuarentena'\", 2490),\n (\"b'17abr'\", 2426),\n (\"b'concienciaycompromiso'\", 2282),\n (\"b'mexico'\", 2202),\n (\"b'cubaporlasalud'\", 2020),\n (\"b'17anosbarrioadentro'\", 1976),\n (\"b'abrildeunioncivicomilitar'\", 1880),\n (\"b'abrildevictoriapopular'\", 1801),\n (\"b'pandemia'\", 1759),\n (\"b'urgente'\", 1737),\n (\"b'reporte'\", 1731),\n (\"b'sanadistancia'\", 1706),\n (\"b'15abr'\", 1687),\n (\"b'envideo'\", 1683),\n (\"b'covid2019'\", 1647),\n (\"b'18abr'\", 1611),\n (\"b'atencion'\", 1601),\n (\"b'covid19chile'\", 1597),\n (\"b'envivo'\", 1583),\n (\"b'ahora'\", 1560),\n (\"b'14abr'\", 1547),\n (\"b'china'\", 1474),\n (\"b'12abr'\", 1467),\n (\"b'salud'\", 1454),\n (\"b'ecuador'\", 1440),\n (\"b'alemania'\", 1431),\n (\"b'cuidarteescuidarnos'\", 1337),\n (\"b'16abr'\", 1293),\n (\"b'peruestaennuestrasmanos'\", 1271),\n (\"b'oms'\", 1257),\n (\"b'somoscuba'\", 1237),\n (\"b'video'\", 1227),\n (\"b'hermandadenvanguardia'\", 1168),\n (\"b'espana'\", 1164),\n (\"b'mexicounido'\", 1153),\n (\"b'enterate'\", 1102),\n (\"b'abrildelealtadchavista'\", 1064),\n (\"b'aecuadorlosacamostodos'\", 1061),\n (\"b'peru'\", 1040),\n (\"b'cubasalva'\", 1024),\n (\"b'13abr'\", 1016),\n (\"b'covid__19'\", 1013),\n (\"b'11abr'\", 1000),\n (\"b'emergenciasanitaria'\", 1000),\n (\"b'notimippci'\", 991),\n (\"b'11abril'\", 980),\n (\"b'colombia'\", 969),\n (\"b'prevencionyaccion'\", 938),\n (\"b'nicaragua'\", 906),\n (\"b'operativoescudo'\", 891),\n (\"b'sntesalud'\", 879),\n (\"b'loultimo'\", 859),\n (\"b'modoactivo'\", 841),\n (\"b'juntossaldremosadelante'\", 821),\n (\"b'elsalvador'\", 820),\n (\"b'informacionparati'\", 788),\n (\"b'chile'\", 771),\n (\"b'fanbsiemprecontigo'\", 767),\n (\"b'ahoratocalucharjuntos'\", 761),\n (\"b'fase3'\", 752),\n (\"b'cdmx'\", 750),\n (\"b'bloqueonosolidaridadsi'\", 748),\n (\"b'italia'\", 745),\n (\"b'alertacovid19sv'\", 715),\n (\"b'fakenews'\", 686),\n (\"b'puebla'\", 681),\n (\"b'viruschino'\", 676),\n (\"b'encasaysincomida'\", 673),\n (\"b'salvavidas'\", 671),\n (\"b'quedateentucasa'\", 667),\n (\"b'yoencasateinvito'\", 657),\n (\"b'brasil'\", 629),\n (\"b'amloseva'\", 626),\n (\"b'mexicosolidario'\", 620),\n (\"b'andalucia'\", 604),\n (\"b'enfotos'\", 599),\n (\"b'imss'\", 592),\n (\"b'honduras'\", 590),\n (\"b'noticia'\", 585),\n (\"b'quedateencasaya'\", 580),\n (\"b'endsanctionssavelives'\", 576),\n (\"b'perspectivas2020'\", 574),\n (\"b'quedateenlacasa'\", 573)]"
     },
     "execution_count": 18,
     "metadata": {},
     "output_type": "execute_result"
    }
   ],
   "source": [
    "ht_counts.most_common(100)"
   ],
   "metadata": {
    "collapsed": false,
    "ExecuteTime": {
     "end_time": "2024-11-19T20:45:12.898494Z",
     "start_time": "2024-11-19T20:45:12.888246Z"
    }
   }
  },
  {
   "cell_type": "code",
   "execution_count": 19,
   "outputs": [
    {
     "data": {
      "text/plain": "616229"
     },
     "execution_count": 19,
     "metadata": {},
     "output_type": "execute_result"
    }
   ],
   "source": [
    "len(df)"
   ],
   "metadata": {
    "collapsed": false,
    "ExecuteTime": {
     "end_time": "2024-11-19T20:45:37.266573Z",
     "start_time": "2024-11-19T20:45:37.251372Z"
    }
   }
  },
  {
   "cell_type": "code",
   "execution_count": 20,
   "outputs": [],
   "source": [
    "dfc = df[df.hashtags.apply(lambda hts: b\"cuarentena\" in hts)]"
   ],
   "metadata": {
    "collapsed": false,
    "ExecuteTime": {
     "end_time": "2024-11-19T20:46:01.089367Z",
     "start_time": "2024-11-19T20:46:00.949463Z"
    }
   }
  },
  {
   "cell_type": "code",
   "execution_count": 21,
   "outputs": [
    {
     "ename": "ValueError",
     "evalue": "a must be greater than 0 unless no samples are taken",
     "output_type": "error",
     "traceback": [
      "\u001B[0;31m---------------------------------------------------------------------------\u001B[0m",
      "\u001B[0;31mValueError\u001B[0m                                Traceback (most recent call last)",
      "Cell \u001B[0;32mIn[21], line 1\u001B[0m\n\u001B[0;32m----> 1\u001B[0m \u001B[38;5;28;01mfor\u001B[39;00m t \u001B[38;5;129;01min\u001B[39;00m \u001B[43mdfc\u001B[49m\u001B[38;5;241;43m.\u001B[39;49m\u001B[43msample\u001B[49m\u001B[43m(\u001B[49m\u001B[38;5;241;43m100\u001B[39;49m\u001B[43m)\u001B[49m\u001B[38;5;241m.\u001B[39mfull_text\u001B[38;5;241m.\u001B[39mvalues:\n\u001B[1;32m      2\u001B[0m     \u001B[38;5;28mprint\u001B[39m(t)\n\u001B[1;32m      3\u001B[0m     \u001B[38;5;28mprint\u001B[39m(\u001B[38;5;124m\"\u001B[39m\u001B[38;5;124m--------------------\u001B[39m\u001B[38;5;124m\"\u001B[39m)\n",
      "File \u001B[0;32m/Users/pablogcelayes/opt/anaconda3/envs/textmining2/lib/python3.11/site-packages/pandas/core/generic.py:6118\u001B[0m, in \u001B[0;36mNDFrame.sample\u001B[0;34m(self, n, frac, replace, weights, random_state, axis, ignore_index)\u001B[0m\n\u001B[1;32m   6115\u001B[0m \u001B[38;5;28;01mif\u001B[39;00m weights \u001B[38;5;129;01mis\u001B[39;00m \u001B[38;5;129;01mnot\u001B[39;00m \u001B[38;5;28;01mNone\u001B[39;00m:\n\u001B[1;32m   6116\u001B[0m     weights \u001B[38;5;241m=\u001B[39m sample\u001B[38;5;241m.\u001B[39mpreprocess_weights(\u001B[38;5;28mself\u001B[39m, weights, axis)\n\u001B[0;32m-> 6118\u001B[0m sampled_indices \u001B[38;5;241m=\u001B[39m \u001B[43msample\u001B[49m\u001B[38;5;241;43m.\u001B[39;49m\u001B[43msample\u001B[49m\u001B[43m(\u001B[49m\u001B[43mobj_len\u001B[49m\u001B[43m,\u001B[49m\u001B[43m \u001B[49m\u001B[43msize\u001B[49m\u001B[43m,\u001B[49m\u001B[43m \u001B[49m\u001B[43mreplace\u001B[49m\u001B[43m,\u001B[49m\u001B[43m \u001B[49m\u001B[43mweights\u001B[49m\u001B[43m,\u001B[49m\u001B[43m \u001B[49m\u001B[43mrs\u001B[49m\u001B[43m)\u001B[49m\n\u001B[1;32m   6119\u001B[0m result \u001B[38;5;241m=\u001B[39m \u001B[38;5;28mself\u001B[39m\u001B[38;5;241m.\u001B[39mtake(sampled_indices, axis\u001B[38;5;241m=\u001B[39maxis)\n\u001B[1;32m   6121\u001B[0m \u001B[38;5;28;01mif\u001B[39;00m ignore_index:\n",
      "File \u001B[0;32m/Users/pablogcelayes/opt/anaconda3/envs/textmining2/lib/python3.11/site-packages/pandas/core/sample.py:152\u001B[0m, in \u001B[0;36msample\u001B[0;34m(obj_len, size, replace, weights, random_state)\u001B[0m\n\u001B[1;32m    149\u001B[0m     \u001B[38;5;28;01melse\u001B[39;00m:\n\u001B[1;32m    150\u001B[0m         \u001B[38;5;28;01mraise\u001B[39;00m \u001B[38;5;167;01mValueError\u001B[39;00m(\u001B[38;5;124m\"\u001B[39m\u001B[38;5;124mInvalid weights: weights sum to zero\u001B[39m\u001B[38;5;124m\"\u001B[39m)\n\u001B[0;32m--> 152\u001B[0m \u001B[38;5;28;01mreturn\u001B[39;00m \u001B[43mrandom_state\u001B[49m\u001B[38;5;241;43m.\u001B[39;49m\u001B[43mchoice\u001B[49m\u001B[43m(\u001B[49m\u001B[43mobj_len\u001B[49m\u001B[43m,\u001B[49m\u001B[43m \u001B[49m\u001B[43msize\u001B[49m\u001B[38;5;241;43m=\u001B[39;49m\u001B[43msize\u001B[49m\u001B[43m,\u001B[49m\u001B[43m \u001B[49m\u001B[43mreplace\u001B[49m\u001B[38;5;241;43m=\u001B[39;49m\u001B[43mreplace\u001B[49m\u001B[43m,\u001B[49m\u001B[43m \u001B[49m\u001B[43mp\u001B[49m\u001B[38;5;241;43m=\u001B[39;49m\u001B[43mweights\u001B[49m\u001B[43m)\u001B[49m\u001B[38;5;241m.\u001B[39mastype(\n\u001B[1;32m    153\u001B[0m     np\u001B[38;5;241m.\u001B[39mintp, copy\u001B[38;5;241m=\u001B[39m\u001B[38;5;28;01mFalse\u001B[39;00m\n\u001B[1;32m    154\u001B[0m )\n",
      "File \u001B[0;32mnumpy/random/mtrand.pyx:945\u001B[0m, in \u001B[0;36mnumpy.random.mtrand.RandomState.choice\u001B[0;34m()\u001B[0m\n",
      "\u001B[0;31mValueError\u001B[0m: a must be greater than 0 unless no samples are taken"
     ]
    }
   ],
   "source": [
    "for t in dfc.sample(100).full_text.values:\n",
    "    print(t)\n",
    "    print(\"--------------------\")"
   ],
   "metadata": {
    "collapsed": false,
    "ExecuteTime": {
     "end_time": "2024-11-19T20:46:01.749194Z",
     "start_time": "2024-11-19T20:46:01.385086Z"
    }
   }
  },
  {
   "cell_type": "code",
   "execution_count": null,
   "outputs": [],
   "source": [],
   "metadata": {
    "collapsed": false
   }
  }
 ],
 "metadata": {
  "kernelspec": {
   "display_name": "textmining2",
   "language": "python",
   "name": "textmining2"
  },
  "language_info": {
   "codemirror_mode": {
    "name": "ipython",
    "version": 3
   },
   "file_extension": ".py",
   "mimetype": "text/x-python",
   "name": "python",
   "nbconvert_exporter": "python",
   "pygments_lexer": "ipython3",
   "version": "3.11.10"
  }
 },
 "nbformat": 4,
 "nbformat_minor": 5
}
